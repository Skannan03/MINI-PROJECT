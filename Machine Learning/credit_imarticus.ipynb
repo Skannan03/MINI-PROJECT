{
  "nbformat": 4,
  "nbformat_minor": 0,
  "metadata": {
    "colab": {
      "provenance": [],
      "collapsed_sections": [
        "sGovSmkTkvfV"
      ]
    },
    "kernelspec": {
      "name": "python3",
      "display_name": "Python 3"
    },
    "language_info": {
      "name": "python"
    }
  },
  "cells": [
    {
      "cell_type": "markdown",
      "source": [
        "#CREDIT CLASSIFICATION MODEL"
      ],
      "metadata": {
        "id": "OqOPL3N3POVV"
      }
    },
    {
      "cell_type": "markdown",
      "source": [
        "ABC Bank wants to identify and understand their customers better to determine the appropriate credit amount to be offered based on multiple factors. The bank possesses a vast dataset containing customer information and other relevant parameters. The bank aims to develop a robust model that can accurately group customer based on their creditworthiness. This will enable the bank to make informed decisions about the credit amount to be extended to each customer group, which can help mitigate risk, ensure responsible lending practices, and optimize loan portfolio management. Additionally, the model can assist the bank in identifying potential high-value customers, tailoring credit offers based on risk profiles, and complying with regulatory requirements.\n",
        "\n",
        "You have been given a percept of this dataset and the problem at hand is to create a reliable model that can effectively categorize customers into three groups based on various factors, enabling the bank to make data-driven decisions for credit lending and risk management.\n",
        "\n",
        "The data given is of credit records of individuals with certain attributes. Please go through following to understand the variables involved:"
      ],
      "metadata": {
        "id": "8Im053_TPyEr"
      }
    },
    {
      "cell_type": "markdown",
      "source": [
        "a. serial number : unique identification key\n",
        "\n",
        "b. account_info : Categorized details of existing accounts of the individuals. The balance of money in account provided is stated by this variable\n",
        "\n",
        "c. duration_month : Duration in months for which the credit is existing\n",
        "\n",
        "d. credit_history : This categorical variable signifies the credit history of the individual who has taken the loan\n",
        "\n",
        "e. purpose: This variable signifies why the loan was taken\n",
        "\n",
        "f. savings_account: This variable signifies details of the amount present in savings account of the individual:\n",
        "\n",
        "g. employment_st: Categorical variable that signifies the employment status of everyone who has been alloted loans\n",
        "\n",
        "h. poi: This numerical variable signifies what percentage of disposable income is spent on loan interest amount.\n",
        "\n",
        "i. personal_status: This categorical variable signifies the personal status of the individual\n",
        "\n",
        "j. guarantors: Categorical variable which signifies if any other individual is involved with an individual loan case\n",
        "\n",
        "k. resident_since: Numerical variable that signifies for how many years the applicant has been a resident\n",
        "\n",
        "l. property_type: This qualitative variable defines the property holding information of the individual\n",
        "\n",
        "m. age: Numerical variable that signifies age in number of years\n",
        "\n",
        "n. installment_type: This variable signifies other installment types taken\n",
        "\n",
        "o. housing_type: This is a categorical variable that signifies which type of housing does a applicant have.\n",
        "\n",
        "p. credits_no: Numerical variable for number of credits taken by the person\n",
        "\n",
        "q. job_type: Signifies the employment status of the person\n",
        "\n",
        "r. liables: Signifies number of persons dependent on the applicant\n",
        "\n",
        "s. telephone: Signifies if the individual has a telephone or no\n",
        "\n",
        "t. foreigner: Signifies if the individual is a foreigner or not (considering the country of residence of the bank)\n"
      ],
      "metadata": {
        "id": "Un_oujQ7P7Ld"
      }
    },
    {
      "cell_type": "markdown",
      "source": [
        "# Approach to the prediction\n",
        "* 1.Import all libaray\n",
        "* 2.Load and audit the data\n",
        "* 3.Data prepration and Data Transformation\n",
        "    * 1.Dealing with missing value\n",
        "    * 2.Inconsistent value: Replace all transformation with consistent values\n",
        "    * 3.Dealing With Outliers\n",
        "* 4.Data visualization\n",
        "* 5.Data analysis\n",
        "    * 1.Uni-variate Analysis(Mean,Median,Mode,Skewness)\n",
        "    * 2.Bi-variate Analysis(Correlation,Covariance,Chi-Square Test)\n",
        "    * 3.Multi-Variate Analysis\n",
        "        * 1.Regression:Not a regressiion\n",
        "        * 2.Classification\n",
        "            * 1.Apply different model to find the best accuracy"
      ],
      "metadata": {
        "id": "TjfmPstzPaIu"
      }
    },
    {
      "cell_type": "markdown",
      "source": [
        "#Importing the libraries"
      ],
      "metadata": {
        "id": "hFJFkPFxQwIY"
      }
    },
    {
      "cell_type": "code",
      "execution_count": null,
      "metadata": {
        "id": "5DwQqVvSQlME"
      },
      "outputs": [],
      "source": [
        "import numpy as np\n",
        "import pandas as pd\n",
        "import matplotlib.pyplot  as plt\n",
        "import seaborn as sns\n",
        "\n",
        "from sklearn.preprocessing import LabelEncoder\n",
        "from sklearn.model_selection import train_test_split\n",
        "from sklearn.tree import DecisionTreeClassifier\n",
        "from sklearn.linear_model import LogisticRegression\n",
        "from sklearn.ensemble import RandomForestClassifier,AdaBoostClassifier\n",
        "import xgboost as xgb\n",
        "from sklearn.metrics import accuracy_score,confusion_matrix,classification_report,f1_score\n",
        "from scipy.stats import chi2_contingency\n",
        "from sklearn.preprocessing import StandardScaler"
      ]
    },
    {
      "cell_type": "markdown",
      "source": [
        "#Importing the dataset"
      ],
      "metadata": {
        "id": "4Dsqup8LQ1u9"
      }
    },
    {
      "cell_type": "code",
      "source": [
        "train=pd.read_csv(\"/content/ABC_Bank_train_data.csv\")\n",
        "train.head()"
      ],
      "metadata": {
        "colab": {
          "base_uri": "https://localhost:8080/",
          "height": 317
        },
        "id": "QYRiVu3mR6Kz",
        "outputId": "fbefb0c6-eb9e-483a-f200-d5b521325863"
      },
      "execution_count": null,
      "outputs": [
        {
          "output_type": "execute_result",
          "data": {
            "text/plain": [
              "   serial number account_info  duration_month credit_history purpose  \\\n",
              "0              1          A11               6            A34     A43   \n",
              "1              2          A12              48            A32     A43   \n",
              "2              3          A14              12            A34     A46   \n",
              "3              4          A11              42            A32     A42   \n",
              "4              5          A11              24            A33     A40   \n",
              "\n",
              "  savings_account employment_st  poi personal_status gurantors  ...  \\\n",
              "0             A65           A75  4.0             A93      A101  ...   \n",
              "1             A61           A73  2.0             A92      A101  ...   \n",
              "2             A61           A74  2.0             A93      A101  ...   \n",
              "3             A61           A74  2.0             A93      A103  ...   \n",
              "4             A61           A73  3.0             A93      A101  ...   \n",
              "\n",
              "   property_type   age  installment_type housing_type credits_no  job_type  \\\n",
              "0           A121  67.0              A143         A152          2      A173   \n",
              "1           A121  22.0              A143         A152          1      A173   \n",
              "2           A121  49.0              A143         A152          1      A172   \n",
              "3           A122  45.0              A143         A153          1      A173   \n",
              "4           A124  53.0              A143         A153          2      A173   \n",
              "\n",
              "  liables  telephone foreigner Group_no  \n",
              "0       1       A192      A201        3  \n",
              "1       1       A191      A201        1  \n",
              "2       2       A191      A201        2  \n",
              "3       2       A191      A201        1  \n",
              "4       2       A191      A201        1  \n",
              "\n",
              "[5 rows x 21 columns]"
            ],
            "text/html": [
              "\n",
              "  <div id=\"df-4dc95a17-5a2b-4e0a-bf97-9c10fa373ab2\">\n",
              "    <div class=\"colab-df-container\">\n",
              "      <div>\n",
              "<style scoped>\n",
              "    .dataframe tbody tr th:only-of-type {\n",
              "        vertical-align: middle;\n",
              "    }\n",
              "\n",
              "    .dataframe tbody tr th {\n",
              "        vertical-align: top;\n",
              "    }\n",
              "\n",
              "    .dataframe thead th {\n",
              "        text-align: right;\n",
              "    }\n",
              "</style>\n",
              "<table border=\"1\" class=\"dataframe\">\n",
              "  <thead>\n",
              "    <tr style=\"text-align: right;\">\n",
              "      <th></th>\n",
              "      <th>serial number</th>\n",
              "      <th>account_info</th>\n",
              "      <th>duration_month</th>\n",
              "      <th>credit_history</th>\n",
              "      <th>purpose</th>\n",
              "      <th>savings_account</th>\n",
              "      <th>employment_st</th>\n",
              "      <th>poi</th>\n",
              "      <th>personal_status</th>\n",
              "      <th>gurantors</th>\n",
              "      <th>...</th>\n",
              "      <th>property_type</th>\n",
              "      <th>age</th>\n",
              "      <th>installment_type</th>\n",
              "      <th>housing_type</th>\n",
              "      <th>credits_no</th>\n",
              "      <th>job_type</th>\n",
              "      <th>liables</th>\n",
              "      <th>telephone</th>\n",
              "      <th>foreigner</th>\n",
              "      <th>Group_no</th>\n",
              "    </tr>\n",
              "  </thead>\n",
              "  <tbody>\n",
              "    <tr>\n",
              "      <th>0</th>\n",
              "      <td>1</td>\n",
              "      <td>A11</td>\n",
              "      <td>6</td>\n",
              "      <td>A34</td>\n",
              "      <td>A43</td>\n",
              "      <td>A65</td>\n",
              "      <td>A75</td>\n",
              "      <td>4.0</td>\n",
              "      <td>A93</td>\n",
              "      <td>A101</td>\n",
              "      <td>...</td>\n",
              "      <td>A121</td>\n",
              "      <td>67.0</td>\n",
              "      <td>A143</td>\n",
              "      <td>A152</td>\n",
              "      <td>2</td>\n",
              "      <td>A173</td>\n",
              "      <td>1</td>\n",
              "      <td>A192</td>\n",
              "      <td>A201</td>\n",
              "      <td>3</td>\n",
              "    </tr>\n",
              "    <tr>\n",
              "      <th>1</th>\n",
              "      <td>2</td>\n",
              "      <td>A12</td>\n",
              "      <td>48</td>\n",
              "      <td>A32</td>\n",
              "      <td>A43</td>\n",
              "      <td>A61</td>\n",
              "      <td>A73</td>\n",
              "      <td>2.0</td>\n",
              "      <td>A92</td>\n",
              "      <td>A101</td>\n",
              "      <td>...</td>\n",
              "      <td>A121</td>\n",
              "      <td>22.0</td>\n",
              "      <td>A143</td>\n",
              "      <td>A152</td>\n",
              "      <td>1</td>\n",
              "      <td>A173</td>\n",
              "      <td>1</td>\n",
              "      <td>A191</td>\n",
              "      <td>A201</td>\n",
              "      <td>1</td>\n",
              "    </tr>\n",
              "    <tr>\n",
              "      <th>2</th>\n",
              "      <td>3</td>\n",
              "      <td>A14</td>\n",
              "      <td>12</td>\n",
              "      <td>A34</td>\n",
              "      <td>A46</td>\n",
              "      <td>A61</td>\n",
              "      <td>A74</td>\n",
              "      <td>2.0</td>\n",
              "      <td>A93</td>\n",
              "      <td>A101</td>\n",
              "      <td>...</td>\n",
              "      <td>A121</td>\n",
              "      <td>49.0</td>\n",
              "      <td>A143</td>\n",
              "      <td>A152</td>\n",
              "      <td>1</td>\n",
              "      <td>A172</td>\n",
              "      <td>2</td>\n",
              "      <td>A191</td>\n",
              "      <td>A201</td>\n",
              "      <td>2</td>\n",
              "    </tr>\n",
              "    <tr>\n",
              "      <th>3</th>\n",
              "      <td>4</td>\n",
              "      <td>A11</td>\n",
              "      <td>42</td>\n",
              "      <td>A32</td>\n",
              "      <td>A42</td>\n",
              "      <td>A61</td>\n",
              "      <td>A74</td>\n",
              "      <td>2.0</td>\n",
              "      <td>A93</td>\n",
              "      <td>A103</td>\n",
              "      <td>...</td>\n",
              "      <td>A122</td>\n",
              "      <td>45.0</td>\n",
              "      <td>A143</td>\n",
              "      <td>A153</td>\n",
              "      <td>1</td>\n",
              "      <td>A173</td>\n",
              "      <td>2</td>\n",
              "      <td>A191</td>\n",
              "      <td>A201</td>\n",
              "      <td>1</td>\n",
              "    </tr>\n",
              "    <tr>\n",
              "      <th>4</th>\n",
              "      <td>5</td>\n",
              "      <td>A11</td>\n",
              "      <td>24</td>\n",
              "      <td>A33</td>\n",
              "      <td>A40</td>\n",
              "      <td>A61</td>\n",
              "      <td>A73</td>\n",
              "      <td>3.0</td>\n",
              "      <td>A93</td>\n",
              "      <td>A101</td>\n",
              "      <td>...</td>\n",
              "      <td>A124</td>\n",
              "      <td>53.0</td>\n",
              "      <td>A143</td>\n",
              "      <td>A153</td>\n",
              "      <td>2</td>\n",
              "      <td>A173</td>\n",
              "      <td>2</td>\n",
              "      <td>A191</td>\n",
              "      <td>A201</td>\n",
              "      <td>1</td>\n",
              "    </tr>\n",
              "  </tbody>\n",
              "</table>\n",
              "<p>5 rows × 21 columns</p>\n",
              "</div>\n",
              "      <button class=\"colab-df-convert\" onclick=\"convertToInteractive('df-4dc95a17-5a2b-4e0a-bf97-9c10fa373ab2')\"\n",
              "              title=\"Convert this dataframe to an interactive table.\"\n",
              "              style=\"display:none;\">\n",
              "        \n",
              "  <svg xmlns=\"http://www.w3.org/2000/svg\" height=\"24px\"viewBox=\"0 0 24 24\"\n",
              "       width=\"24px\">\n",
              "    <path d=\"M0 0h24v24H0V0z\" fill=\"none\"/>\n",
              "    <path d=\"M18.56 5.44l.94 2.06.94-2.06 2.06-.94-2.06-.94-.94-2.06-.94 2.06-2.06.94zm-11 1L8.5 8.5l.94-2.06 2.06-.94-2.06-.94L8.5 2.5l-.94 2.06-2.06.94zm10 10l.94 2.06.94-2.06 2.06-.94-2.06-.94-.94-2.06-.94 2.06-2.06.94z\"/><path d=\"M17.41 7.96l-1.37-1.37c-.4-.4-.92-.59-1.43-.59-.52 0-1.04.2-1.43.59L10.3 9.45l-7.72 7.72c-.78.78-.78 2.05 0 2.83L4 21.41c.39.39.9.59 1.41.59.51 0 1.02-.2 1.41-.59l7.78-7.78 2.81-2.81c.8-.78.8-2.07 0-2.86zM5.41 20L4 18.59l7.72-7.72 1.47 1.35L5.41 20z\"/>\n",
              "  </svg>\n",
              "      </button>\n",
              "      \n",
              "  <style>\n",
              "    .colab-df-container {\n",
              "      display:flex;\n",
              "      flex-wrap:wrap;\n",
              "      gap: 12px;\n",
              "    }\n",
              "\n",
              "    .colab-df-convert {\n",
              "      background-color: #E8F0FE;\n",
              "      border: none;\n",
              "      border-radius: 50%;\n",
              "      cursor: pointer;\n",
              "      display: none;\n",
              "      fill: #1967D2;\n",
              "      height: 32px;\n",
              "      padding: 0 0 0 0;\n",
              "      width: 32px;\n",
              "    }\n",
              "\n",
              "    .colab-df-convert:hover {\n",
              "      background-color: #E2EBFA;\n",
              "      box-shadow: 0px 1px 2px rgba(60, 64, 67, 0.3), 0px 1px 3px 1px rgba(60, 64, 67, 0.15);\n",
              "      fill: #174EA6;\n",
              "    }\n",
              "\n",
              "    [theme=dark] .colab-df-convert {\n",
              "      background-color: #3B4455;\n",
              "      fill: #D2E3FC;\n",
              "    }\n",
              "\n",
              "    [theme=dark] .colab-df-convert:hover {\n",
              "      background-color: #434B5C;\n",
              "      box-shadow: 0px 1px 3px 1px rgba(0, 0, 0, 0.15);\n",
              "      filter: drop-shadow(0px 1px 2px rgba(0, 0, 0, 0.3));\n",
              "      fill: #FFFFFF;\n",
              "    }\n",
              "  </style>\n",
              "\n",
              "      <script>\n",
              "        const buttonEl =\n",
              "          document.querySelector('#df-4dc95a17-5a2b-4e0a-bf97-9c10fa373ab2 button.colab-df-convert');\n",
              "        buttonEl.style.display =\n",
              "          google.colab.kernel.accessAllowed ? 'block' : 'none';\n",
              "\n",
              "        async function convertToInteractive(key) {\n",
              "          const element = document.querySelector('#df-4dc95a17-5a2b-4e0a-bf97-9c10fa373ab2');\n",
              "          const dataTable =\n",
              "            await google.colab.kernel.invokeFunction('convertToInteractive',\n",
              "                                                     [key], {});\n",
              "          if (!dataTable) return;\n",
              "\n",
              "          const docLinkHtml = 'Like what you see? Visit the ' +\n",
              "            '<a target=\"_blank\" href=https://colab.research.google.com/notebooks/data_table.ipynb>data table notebook</a>'\n",
              "            + ' to learn more about interactive tables.';\n",
              "          element.innerHTML = '';\n",
              "          dataTable['output_type'] = 'display_data';\n",
              "          await google.colab.output.renderOutput(dataTable, element);\n",
              "          const docLink = document.createElement('div');\n",
              "          docLink.innerHTML = docLinkHtml;\n",
              "          element.appendChild(docLink);\n",
              "        }\n",
              "      </script>\n",
              "    </div>\n",
              "  </div>\n",
              "  "
            ]
          },
          "metadata": {},
          "execution_count": 127
        }
      ]
    },
    {
      "cell_type": "code",
      "source": [
        "test=pd.read_csv(\"/content/ABC_Bank_test_data.csv\")\n",
        "test.head()"
      ],
      "metadata": {
        "colab": {
          "base_uri": "https://localhost:8080/",
          "height": 287
        },
        "id": "QIgQF2CfXgEd",
        "outputId": "ac9b86bc-30ad-4e9f-cf26-fffa8fcf1c5f"
      },
      "execution_count": null,
      "outputs": [
        {
          "output_type": "execute_result",
          "data": {
            "text/plain": [
              "   serial number account_info  duration_month credit_history purpose  \\\n",
              "0              1          A14              24            A34     A46   \n",
              "1              2          A12              18            A34     A43   \n",
              "2              3          A11              20            A34     A42   \n",
              "3              4          A14              12            A34     A43   \n",
              "4              5          A12              12            A32     A40   \n",
              "\n",
              "  savings_account employment_st  poi personal_status gurantors  \\\n",
              "0             A61           A75  4.0             A93      A101   \n",
              "1             A61           A75  3.0             A92      A103   \n",
              "2             A61           A75  1.0             A92      A101   \n",
              "3             A65           A75  4.0             A93      A101   \n",
              "4             A65           A71  1.0             A92      A101   \n",
              "\n",
              "   resident_since property_type   age installment_type housing_type  \\\n",
              "0               4          A124  54.0             A143         A153   \n",
              "1               4          A121  48.0             A141         A151   \n",
              "2               4          A122  24.0             A143         A152   \n",
              "3               4          A123  35.0             A143         A152   \n",
              "4               2          A121  24.0             A143         A151   \n",
              "\n",
              "   credits_no job_type  liables telephone foreigner  \n",
              "0           2     A173        2      A191      A201  \n",
              "1           2     A172        1      A192      A201  \n",
              "2           2     A173        1      A191      A201  \n",
              "3           2     A173        1      A191      A201  \n",
              "4           1     A171        1      A191      A201  "
            ],
            "text/html": [
              "\n",
              "  <div id=\"df-f6ffae53-f6e7-4636-9e62-499e8703bd02\">\n",
              "    <div class=\"colab-df-container\">\n",
              "      <div>\n",
              "<style scoped>\n",
              "    .dataframe tbody tr th:only-of-type {\n",
              "        vertical-align: middle;\n",
              "    }\n",
              "\n",
              "    .dataframe tbody tr th {\n",
              "        vertical-align: top;\n",
              "    }\n",
              "\n",
              "    .dataframe thead th {\n",
              "        text-align: right;\n",
              "    }\n",
              "</style>\n",
              "<table border=\"1\" class=\"dataframe\">\n",
              "  <thead>\n",
              "    <tr style=\"text-align: right;\">\n",
              "      <th></th>\n",
              "      <th>serial number</th>\n",
              "      <th>account_info</th>\n",
              "      <th>duration_month</th>\n",
              "      <th>credit_history</th>\n",
              "      <th>purpose</th>\n",
              "      <th>savings_account</th>\n",
              "      <th>employment_st</th>\n",
              "      <th>poi</th>\n",
              "      <th>personal_status</th>\n",
              "      <th>gurantors</th>\n",
              "      <th>resident_since</th>\n",
              "      <th>property_type</th>\n",
              "      <th>age</th>\n",
              "      <th>installment_type</th>\n",
              "      <th>housing_type</th>\n",
              "      <th>credits_no</th>\n",
              "      <th>job_type</th>\n",
              "      <th>liables</th>\n",
              "      <th>telephone</th>\n",
              "      <th>foreigner</th>\n",
              "    </tr>\n",
              "  </thead>\n",
              "  <tbody>\n",
              "    <tr>\n",
              "      <th>0</th>\n",
              "      <td>1</td>\n",
              "      <td>A14</td>\n",
              "      <td>24</td>\n",
              "      <td>A34</td>\n",
              "      <td>A46</td>\n",
              "      <td>A61</td>\n",
              "      <td>A75</td>\n",
              "      <td>4.0</td>\n",
              "      <td>A93</td>\n",
              "      <td>A101</td>\n",
              "      <td>4</td>\n",
              "      <td>A124</td>\n",
              "      <td>54.0</td>\n",
              "      <td>A143</td>\n",
              "      <td>A153</td>\n",
              "      <td>2</td>\n",
              "      <td>A173</td>\n",
              "      <td>2</td>\n",
              "      <td>A191</td>\n",
              "      <td>A201</td>\n",
              "    </tr>\n",
              "    <tr>\n",
              "      <th>1</th>\n",
              "      <td>2</td>\n",
              "      <td>A12</td>\n",
              "      <td>18</td>\n",
              "      <td>A34</td>\n",
              "      <td>A43</td>\n",
              "      <td>A61</td>\n",
              "      <td>A75</td>\n",
              "      <td>3.0</td>\n",
              "      <td>A92</td>\n",
              "      <td>A103</td>\n",
              "      <td>4</td>\n",
              "      <td>A121</td>\n",
              "      <td>48.0</td>\n",
              "      <td>A141</td>\n",
              "      <td>A151</td>\n",
              "      <td>2</td>\n",
              "      <td>A172</td>\n",
              "      <td>1</td>\n",
              "      <td>A192</td>\n",
              "      <td>A201</td>\n",
              "    </tr>\n",
              "    <tr>\n",
              "      <th>2</th>\n",
              "      <td>3</td>\n",
              "      <td>A11</td>\n",
              "      <td>20</td>\n",
              "      <td>A34</td>\n",
              "      <td>A42</td>\n",
              "      <td>A61</td>\n",
              "      <td>A75</td>\n",
              "      <td>1.0</td>\n",
              "      <td>A92</td>\n",
              "      <td>A101</td>\n",
              "      <td>4</td>\n",
              "      <td>A122</td>\n",
              "      <td>24.0</td>\n",
              "      <td>A143</td>\n",
              "      <td>A152</td>\n",
              "      <td>2</td>\n",
              "      <td>A173</td>\n",
              "      <td>1</td>\n",
              "      <td>A191</td>\n",
              "      <td>A201</td>\n",
              "    </tr>\n",
              "    <tr>\n",
              "      <th>3</th>\n",
              "      <td>4</td>\n",
              "      <td>A14</td>\n",
              "      <td>12</td>\n",
              "      <td>A34</td>\n",
              "      <td>A43</td>\n",
              "      <td>A65</td>\n",
              "      <td>A75</td>\n",
              "      <td>4.0</td>\n",
              "      <td>A93</td>\n",
              "      <td>A101</td>\n",
              "      <td>4</td>\n",
              "      <td>A123</td>\n",
              "      <td>35.0</td>\n",
              "      <td>A143</td>\n",
              "      <td>A152</td>\n",
              "      <td>2</td>\n",
              "      <td>A173</td>\n",
              "      <td>1</td>\n",
              "      <td>A191</td>\n",
              "      <td>A201</td>\n",
              "    </tr>\n",
              "    <tr>\n",
              "      <th>4</th>\n",
              "      <td>5</td>\n",
              "      <td>A12</td>\n",
              "      <td>12</td>\n",
              "      <td>A32</td>\n",
              "      <td>A40</td>\n",
              "      <td>A65</td>\n",
              "      <td>A71</td>\n",
              "      <td>1.0</td>\n",
              "      <td>A92</td>\n",
              "      <td>A101</td>\n",
              "      <td>2</td>\n",
              "      <td>A121</td>\n",
              "      <td>24.0</td>\n",
              "      <td>A143</td>\n",
              "      <td>A151</td>\n",
              "      <td>1</td>\n",
              "      <td>A171</td>\n",
              "      <td>1</td>\n",
              "      <td>A191</td>\n",
              "      <td>A201</td>\n",
              "    </tr>\n",
              "  </tbody>\n",
              "</table>\n",
              "</div>\n",
              "      <button class=\"colab-df-convert\" onclick=\"convertToInteractive('df-f6ffae53-f6e7-4636-9e62-499e8703bd02')\"\n",
              "              title=\"Convert this dataframe to an interactive table.\"\n",
              "              style=\"display:none;\">\n",
              "        \n",
              "  <svg xmlns=\"http://www.w3.org/2000/svg\" height=\"24px\"viewBox=\"0 0 24 24\"\n",
              "       width=\"24px\">\n",
              "    <path d=\"M0 0h24v24H0V0z\" fill=\"none\"/>\n",
              "    <path d=\"M18.56 5.44l.94 2.06.94-2.06 2.06-.94-2.06-.94-.94-2.06-.94 2.06-2.06.94zm-11 1L8.5 8.5l.94-2.06 2.06-.94-2.06-.94L8.5 2.5l-.94 2.06-2.06.94zm10 10l.94 2.06.94-2.06 2.06-.94-2.06-.94-.94-2.06-.94 2.06-2.06.94z\"/><path d=\"M17.41 7.96l-1.37-1.37c-.4-.4-.92-.59-1.43-.59-.52 0-1.04.2-1.43.59L10.3 9.45l-7.72 7.72c-.78.78-.78 2.05 0 2.83L4 21.41c.39.39.9.59 1.41.59.51 0 1.02-.2 1.41-.59l7.78-7.78 2.81-2.81c.8-.78.8-2.07 0-2.86zM5.41 20L4 18.59l7.72-7.72 1.47 1.35L5.41 20z\"/>\n",
              "  </svg>\n",
              "      </button>\n",
              "      \n",
              "  <style>\n",
              "    .colab-df-container {\n",
              "      display:flex;\n",
              "      flex-wrap:wrap;\n",
              "      gap: 12px;\n",
              "    }\n",
              "\n",
              "    .colab-df-convert {\n",
              "      background-color: #E8F0FE;\n",
              "      border: none;\n",
              "      border-radius: 50%;\n",
              "      cursor: pointer;\n",
              "      display: none;\n",
              "      fill: #1967D2;\n",
              "      height: 32px;\n",
              "      padding: 0 0 0 0;\n",
              "      width: 32px;\n",
              "    }\n",
              "\n",
              "    .colab-df-convert:hover {\n",
              "      background-color: #E2EBFA;\n",
              "      box-shadow: 0px 1px 2px rgba(60, 64, 67, 0.3), 0px 1px 3px 1px rgba(60, 64, 67, 0.15);\n",
              "      fill: #174EA6;\n",
              "    }\n",
              "\n",
              "    [theme=dark] .colab-df-convert {\n",
              "      background-color: #3B4455;\n",
              "      fill: #D2E3FC;\n",
              "    }\n",
              "\n",
              "    [theme=dark] .colab-df-convert:hover {\n",
              "      background-color: #434B5C;\n",
              "      box-shadow: 0px 1px 3px 1px rgba(0, 0, 0, 0.15);\n",
              "      filter: drop-shadow(0px 1px 2px rgba(0, 0, 0, 0.3));\n",
              "      fill: #FFFFFF;\n",
              "    }\n",
              "  </style>\n",
              "\n",
              "      <script>\n",
              "        const buttonEl =\n",
              "          document.querySelector('#df-f6ffae53-f6e7-4636-9e62-499e8703bd02 button.colab-df-convert');\n",
              "        buttonEl.style.display =\n",
              "          google.colab.kernel.accessAllowed ? 'block' : 'none';\n",
              "\n",
              "        async function convertToInteractive(key) {\n",
              "          const element = document.querySelector('#df-f6ffae53-f6e7-4636-9e62-499e8703bd02');\n",
              "          const dataTable =\n",
              "            await google.colab.kernel.invokeFunction('convertToInteractive',\n",
              "                                                     [key], {});\n",
              "          if (!dataTable) return;\n",
              "\n",
              "          const docLinkHtml = 'Like what you see? Visit the ' +\n",
              "            '<a target=\"_blank\" href=https://colab.research.google.com/notebooks/data_table.ipynb>data table notebook</a>'\n",
              "            + ' to learn more about interactive tables.';\n",
              "          element.innerHTML = '';\n",
              "          dataTable['output_type'] = 'display_data';\n",
              "          await google.colab.output.renderOutput(dataTable, element);\n",
              "          const docLink = document.createElement('div');\n",
              "          docLink.innerHTML = docLinkHtml;\n",
              "          element.appendChild(docLink);\n",
              "        }\n",
              "      </script>\n",
              "    </div>\n",
              "  </div>\n",
              "  "
            ]
          },
          "metadata": {},
          "execution_count": 128
        }
      ]
    },
    {
      "cell_type": "code",
      "source": [
        "train.info()"
      ],
      "metadata": {
        "colab": {
          "base_uri": "https://localhost:8080/"
        },
        "id": "F0tsmwh6XqH9",
        "outputId": "85fbae8e-3e5e-4d4c-c09a-e2442cb38485"
      },
      "execution_count": null,
      "outputs": [
        {
          "output_type": "stream",
          "name": "stdout",
          "text": [
            "<class 'pandas.core.frame.DataFrame'>\n",
            "RangeIndex: 800 entries, 0 to 799\n",
            "Data columns (total 21 columns):\n",
            " #   Column            Non-Null Count  Dtype  \n",
            "---  ------            --------------  -----  \n",
            " 0   serial number     800 non-null    int64  \n",
            " 1   account_info      800 non-null    object \n",
            " 2   duration_month    800 non-null    int64  \n",
            " 3   credit_history    800 non-null    object \n",
            " 4   purpose           800 non-null    object \n",
            " 5   savings_account   800 non-null    object \n",
            " 6   employment_st     792 non-null    object \n",
            " 7   poi               788 non-null    float64\n",
            " 8   personal_status   800 non-null    object \n",
            " 9   gurantors         792 non-null    object \n",
            " 10  resident_since    800 non-null    int64  \n",
            " 11  property_type     800 non-null    object \n",
            " 12  age               796 non-null    float64\n",
            " 13  installment_type  800 non-null    object \n",
            " 14  housing_type      793 non-null    object \n",
            " 15  credits_no        800 non-null    int64  \n",
            " 16  job_type          800 non-null    object \n",
            " 17  liables           800 non-null    int64  \n",
            " 18  telephone         800 non-null    object \n",
            " 19  foreigner         800 non-null    object \n",
            " 20  Group_no          800 non-null    int64  \n",
            "dtypes: float64(2), int64(6), object(13)\n",
            "memory usage: 131.4+ KB\n"
          ]
        }
      ]
    },
    {
      "cell_type": "code",
      "source": [
        "train.isnull().sum()\n"
      ],
      "metadata": {
        "colab": {
          "base_uri": "https://localhost:8080/"
        },
        "id": "B3uO-519XyTL",
        "outputId": "b019f132-25a8-4791-8566-b97b9dd53a22"
      },
      "execution_count": null,
      "outputs": [
        {
          "output_type": "execute_result",
          "data": {
            "text/plain": [
              "serial number        0\n",
              "account_info         0\n",
              "duration_month       0\n",
              "credit_history       0\n",
              "purpose              0\n",
              "savings_account      0\n",
              "employment_st        8\n",
              "poi                 12\n",
              "personal_status      0\n",
              "gurantors            8\n",
              "resident_since       0\n",
              "property_type        0\n",
              "age                  4\n",
              "installment_type     0\n",
              "housing_type         7\n",
              "credits_no           0\n",
              "job_type             0\n",
              "liables              0\n",
              "telephone            0\n",
              "foreigner            0\n",
              "Group_no             0\n",
              "dtype: int64"
            ]
          },
          "metadata": {},
          "execution_count": 130
        }
      ]
    },
    {
      "cell_type": "code",
      "source": [
        "train.describe()"
      ],
      "metadata": {
        "colab": {
          "base_uri": "https://localhost:8080/",
          "height": 300
        },
        "id": "a-SqCoz6X435",
        "outputId": "ffe51ea3-f71a-4dd3-f205-dd9b13d583a0"
      },
      "execution_count": null,
      "outputs": [
        {
          "output_type": "execute_result",
          "data": {
            "text/plain": [
              "       serial number  duration_month         poi  resident_since         age  \\\n",
              "count       800.0000       800.00000  788.000000      800.000000  796.000000   \n",
              "mean        400.5000        20.65125    2.950508        2.841250   35.408291   \n",
              "std         231.0844        12.15635    1.130084        1.106833   11.499101   \n",
              "min           1.0000         4.00000    1.000000        1.000000   19.000000   \n",
              "25%         200.7500        12.00000    2.000000        2.000000   27.000000   \n",
              "50%         400.5000        18.00000    3.000000        3.000000   33.000000   \n",
              "75%         600.2500        24.00000    4.000000        4.000000   41.000000   \n",
              "max         800.0000        72.00000    4.000000        4.000000   75.000000   \n",
              "\n",
              "       credits_no     liables    Group_no  \n",
              "count  800.000000  800.000000  800.000000  \n",
              "mean     1.396250    1.147500    2.076250  \n",
              "std      0.569773    0.354825    0.744062  \n",
              "min      1.000000    1.000000    1.000000  \n",
              "25%      1.000000    1.000000    2.000000  \n",
              "50%      1.000000    1.000000    2.000000  \n",
              "75%      2.000000    1.000000    3.000000  \n",
              "max      4.000000    2.000000    3.000000  "
            ],
            "text/html": [
              "\n",
              "  <div id=\"df-d68132c2-a837-4acd-9f8f-d06a14812bd6\">\n",
              "    <div class=\"colab-df-container\">\n",
              "      <div>\n",
              "<style scoped>\n",
              "    .dataframe tbody tr th:only-of-type {\n",
              "        vertical-align: middle;\n",
              "    }\n",
              "\n",
              "    .dataframe tbody tr th {\n",
              "        vertical-align: top;\n",
              "    }\n",
              "\n",
              "    .dataframe thead th {\n",
              "        text-align: right;\n",
              "    }\n",
              "</style>\n",
              "<table border=\"1\" class=\"dataframe\">\n",
              "  <thead>\n",
              "    <tr style=\"text-align: right;\">\n",
              "      <th></th>\n",
              "      <th>serial number</th>\n",
              "      <th>duration_month</th>\n",
              "      <th>poi</th>\n",
              "      <th>resident_since</th>\n",
              "      <th>age</th>\n",
              "      <th>credits_no</th>\n",
              "      <th>liables</th>\n",
              "      <th>Group_no</th>\n",
              "    </tr>\n",
              "  </thead>\n",
              "  <tbody>\n",
              "    <tr>\n",
              "      <th>count</th>\n",
              "      <td>800.0000</td>\n",
              "      <td>800.00000</td>\n",
              "      <td>788.000000</td>\n",
              "      <td>800.000000</td>\n",
              "      <td>796.000000</td>\n",
              "      <td>800.000000</td>\n",
              "      <td>800.000000</td>\n",
              "      <td>800.000000</td>\n",
              "    </tr>\n",
              "    <tr>\n",
              "      <th>mean</th>\n",
              "      <td>400.5000</td>\n",
              "      <td>20.65125</td>\n",
              "      <td>2.950508</td>\n",
              "      <td>2.841250</td>\n",
              "      <td>35.408291</td>\n",
              "      <td>1.396250</td>\n",
              "      <td>1.147500</td>\n",
              "      <td>2.076250</td>\n",
              "    </tr>\n",
              "    <tr>\n",
              "      <th>std</th>\n",
              "      <td>231.0844</td>\n",
              "      <td>12.15635</td>\n",
              "      <td>1.130084</td>\n",
              "      <td>1.106833</td>\n",
              "      <td>11.499101</td>\n",
              "      <td>0.569773</td>\n",
              "      <td>0.354825</td>\n",
              "      <td>0.744062</td>\n",
              "    </tr>\n",
              "    <tr>\n",
              "      <th>min</th>\n",
              "      <td>1.0000</td>\n",
              "      <td>4.00000</td>\n",
              "      <td>1.000000</td>\n",
              "      <td>1.000000</td>\n",
              "      <td>19.000000</td>\n",
              "      <td>1.000000</td>\n",
              "      <td>1.000000</td>\n",
              "      <td>1.000000</td>\n",
              "    </tr>\n",
              "    <tr>\n",
              "      <th>25%</th>\n",
              "      <td>200.7500</td>\n",
              "      <td>12.00000</td>\n",
              "      <td>2.000000</td>\n",
              "      <td>2.000000</td>\n",
              "      <td>27.000000</td>\n",
              "      <td>1.000000</td>\n",
              "      <td>1.000000</td>\n",
              "      <td>2.000000</td>\n",
              "    </tr>\n",
              "    <tr>\n",
              "      <th>50%</th>\n",
              "      <td>400.5000</td>\n",
              "      <td>18.00000</td>\n",
              "      <td>3.000000</td>\n",
              "      <td>3.000000</td>\n",
              "      <td>33.000000</td>\n",
              "      <td>1.000000</td>\n",
              "      <td>1.000000</td>\n",
              "      <td>2.000000</td>\n",
              "    </tr>\n",
              "    <tr>\n",
              "      <th>75%</th>\n",
              "      <td>600.2500</td>\n",
              "      <td>24.00000</td>\n",
              "      <td>4.000000</td>\n",
              "      <td>4.000000</td>\n",
              "      <td>41.000000</td>\n",
              "      <td>2.000000</td>\n",
              "      <td>1.000000</td>\n",
              "      <td>3.000000</td>\n",
              "    </tr>\n",
              "    <tr>\n",
              "      <th>max</th>\n",
              "      <td>800.0000</td>\n",
              "      <td>72.00000</td>\n",
              "      <td>4.000000</td>\n",
              "      <td>4.000000</td>\n",
              "      <td>75.000000</td>\n",
              "      <td>4.000000</td>\n",
              "      <td>2.000000</td>\n",
              "      <td>3.000000</td>\n",
              "    </tr>\n",
              "  </tbody>\n",
              "</table>\n",
              "</div>\n",
              "      <button class=\"colab-df-convert\" onclick=\"convertToInteractive('df-d68132c2-a837-4acd-9f8f-d06a14812bd6')\"\n",
              "              title=\"Convert this dataframe to an interactive table.\"\n",
              "              style=\"display:none;\">\n",
              "        \n",
              "  <svg xmlns=\"http://www.w3.org/2000/svg\" height=\"24px\"viewBox=\"0 0 24 24\"\n",
              "       width=\"24px\">\n",
              "    <path d=\"M0 0h24v24H0V0z\" fill=\"none\"/>\n",
              "    <path d=\"M18.56 5.44l.94 2.06.94-2.06 2.06-.94-2.06-.94-.94-2.06-.94 2.06-2.06.94zm-11 1L8.5 8.5l.94-2.06 2.06-.94-2.06-.94L8.5 2.5l-.94 2.06-2.06.94zm10 10l.94 2.06.94-2.06 2.06-.94-2.06-.94-.94-2.06-.94 2.06-2.06.94z\"/><path d=\"M17.41 7.96l-1.37-1.37c-.4-.4-.92-.59-1.43-.59-.52 0-1.04.2-1.43.59L10.3 9.45l-7.72 7.72c-.78.78-.78 2.05 0 2.83L4 21.41c.39.39.9.59 1.41.59.51 0 1.02-.2 1.41-.59l7.78-7.78 2.81-2.81c.8-.78.8-2.07 0-2.86zM5.41 20L4 18.59l7.72-7.72 1.47 1.35L5.41 20z\"/>\n",
              "  </svg>\n",
              "      </button>\n",
              "      \n",
              "  <style>\n",
              "    .colab-df-container {\n",
              "      display:flex;\n",
              "      flex-wrap:wrap;\n",
              "      gap: 12px;\n",
              "    }\n",
              "\n",
              "    .colab-df-convert {\n",
              "      background-color: #E8F0FE;\n",
              "      border: none;\n",
              "      border-radius: 50%;\n",
              "      cursor: pointer;\n",
              "      display: none;\n",
              "      fill: #1967D2;\n",
              "      height: 32px;\n",
              "      padding: 0 0 0 0;\n",
              "      width: 32px;\n",
              "    }\n",
              "\n",
              "    .colab-df-convert:hover {\n",
              "      background-color: #E2EBFA;\n",
              "      box-shadow: 0px 1px 2px rgba(60, 64, 67, 0.3), 0px 1px 3px 1px rgba(60, 64, 67, 0.15);\n",
              "      fill: #174EA6;\n",
              "    }\n",
              "\n",
              "    [theme=dark] .colab-df-convert {\n",
              "      background-color: #3B4455;\n",
              "      fill: #D2E3FC;\n",
              "    }\n",
              "\n",
              "    [theme=dark] .colab-df-convert:hover {\n",
              "      background-color: #434B5C;\n",
              "      box-shadow: 0px 1px 3px 1px rgba(0, 0, 0, 0.15);\n",
              "      filter: drop-shadow(0px 1px 2px rgba(0, 0, 0, 0.3));\n",
              "      fill: #FFFFFF;\n",
              "    }\n",
              "  </style>\n",
              "\n",
              "      <script>\n",
              "        const buttonEl =\n",
              "          document.querySelector('#df-d68132c2-a837-4acd-9f8f-d06a14812bd6 button.colab-df-convert');\n",
              "        buttonEl.style.display =\n",
              "          google.colab.kernel.accessAllowed ? 'block' : 'none';\n",
              "\n",
              "        async function convertToInteractive(key) {\n",
              "          const element = document.querySelector('#df-d68132c2-a837-4acd-9f8f-d06a14812bd6');\n",
              "          const dataTable =\n",
              "            await google.colab.kernel.invokeFunction('convertToInteractive',\n",
              "                                                     [key], {});\n",
              "          if (!dataTable) return;\n",
              "\n",
              "          const docLinkHtml = 'Like what you see? Visit the ' +\n",
              "            '<a target=\"_blank\" href=https://colab.research.google.com/notebooks/data_table.ipynb>data table notebook</a>'\n",
              "            + ' to learn more about interactive tables.';\n",
              "          element.innerHTML = '';\n",
              "          dataTable['output_type'] = 'display_data';\n",
              "          await google.colab.output.renderOutput(dataTable, element);\n",
              "          const docLink = document.createElement('div');\n",
              "          docLink.innerHTML = docLinkHtml;\n",
              "          element.appendChild(docLink);\n",
              "        }\n",
              "      </script>\n",
              "    </div>\n",
              "  </div>\n",
              "  "
            ]
          },
          "metadata": {},
          "execution_count": 131
        }
      ]
    },
    {
      "cell_type": "markdown",
      "source": [
        "#Data preprocessing\n"
      ],
      "metadata": {
        "id": "AHOA1xfxKCye"
      }
    },
    {
      "cell_type": "code",
      "source": [
        "def data_prep(data):\n",
        "     data['employment_st']=np.where(data['employment_st'].isna(),data['employment_st'].mode(dropna=True),data['employment_st'])\n",
        "     data['gurantors']=np.where(data['gurantors'].isna(),data['gurantors'].mode(dropna=True),data['gurantors'])\n",
        "     data['housing_type']=np.where(data['housing_type'].isna(),data['housing_type'].mode(dropna=True),data['housing_type'])\n",
        "     data['poi']=np.where(data['poi'].isna(),data['poi'].median(skipna=True),data['poi'])\n",
        "     data['age']=np.where(data['age'].isna(),data['age'].median(skipna=True),data['age'])\n"
      ],
      "metadata": {
        "id": "wswGl4_EYMjJ"
      },
      "execution_count": null,
      "outputs": []
    },
    {
      "cell_type": "code",
      "source": [
        "data_prep(train)"
      ],
      "metadata": {
        "id": "KbsHghRdYMf2"
      },
      "execution_count": null,
      "outputs": []
    },
    {
      "cell_type": "code",
      "source": [
        "train.info()"
      ],
      "metadata": {
        "colab": {
          "base_uri": "https://localhost:8080/"
        },
        "id": "KvbZwhomYMWW",
        "outputId": "7b45629a-4817-45d3-edd7-982bd260eef6"
      },
      "execution_count": null,
      "outputs": [
        {
          "output_type": "stream",
          "name": "stdout",
          "text": [
            "<class 'pandas.core.frame.DataFrame'>\n",
            "RangeIndex: 800 entries, 0 to 799\n",
            "Data columns (total 21 columns):\n",
            " #   Column            Non-Null Count  Dtype  \n",
            "---  ------            --------------  -----  \n",
            " 0   serial number     800 non-null    int64  \n",
            " 1   account_info      800 non-null    object \n",
            " 2   duration_month    800 non-null    int64  \n",
            " 3   credit_history    800 non-null    object \n",
            " 4   purpose           800 non-null    object \n",
            " 5   savings_account   800 non-null    object \n",
            " 6   employment_st     800 non-null    object \n",
            " 7   poi               800 non-null    float64\n",
            " 8   personal_status   800 non-null    object \n",
            " 9   gurantors         800 non-null    object \n",
            " 10  resident_since    800 non-null    int64  \n",
            " 11  property_type     800 non-null    object \n",
            " 12  age               800 non-null    float64\n",
            " 13  installment_type  800 non-null    object \n",
            " 14  housing_type      800 non-null    object \n",
            " 15  credits_no        800 non-null    int64  \n",
            " 16  job_type          800 non-null    object \n",
            " 17  liables           800 non-null    int64  \n",
            " 18  telephone         800 non-null    object \n",
            " 19  foreigner         800 non-null    object \n",
            " 20  Group_no          800 non-null    int64  \n",
            "dtypes: float64(2), int64(6), object(13)\n",
            "memory usage: 131.4+ KB\n"
          ]
        }
      ]
    },
    {
      "cell_type": "markdown",
      "source": [
        "#Removing unnecessary columns"
      ],
      "metadata": {
        "id": "w_aPn8umJ6X8"
      }
    },
    {
      "cell_type": "code",
      "source": [
        "train.drop('serial number',axis=1,inplace=True)"
      ],
      "metadata": {
        "id": "PFbCo9ZyaMuU"
      },
      "execution_count": null,
      "outputs": []
    },
    {
      "cell_type": "code",
      "source": [
        "train.skew()"
      ],
      "metadata": {
        "colab": {
          "base_uri": "https://localhost:8080/"
        },
        "id": "9RLl85aiaAFP",
        "outputId": "ea6ab9eb-194e-4877-cbb3-adf1717c927e"
      },
      "execution_count": null,
      "outputs": [
        {
          "output_type": "stream",
          "name": "stderr",
          "text": [
            "<ipython-input-136-1d3a3c99b9d6>:1: FutureWarning: The default value of numeric_only in DataFrame.skew is deprecated. In a future version, it will default to False. In addition, specifying 'numeric_only=None' is deprecated. Select only valid columns or specify the value of numeric_only to silence this warning.\n",
            "  train.skew()\n"
          ]
        },
        {
          "output_type": "execute_result",
          "data": {
            "text/plain": [
              "duration_month    1.149158\n",
              "poi              -0.506821\n",
              "resident_since   -0.277252\n",
              "age               1.065179\n",
              "credits_no        1.267630\n",
              "liables           1.991872\n",
              "Group_no         -0.123486\n",
              "dtype: float64"
            ]
          },
          "metadata": {},
          "execution_count": 136
        }
      ]
    },
    {
      "cell_type": "markdown",
      "source": [
        "#Exploratory Data Analysis\n",
        "\n",
        "> Indented block\n",
        "\n"
      ],
      "metadata": {
        "id": "PaRYNZnLk0cx"
      }
    },
    {
      "cell_type": "code",
      "source": [
        "train['Group_no'].value_counts().plot(kind='pie',autopct='%1.2f%%')\n",
        "train['Group_no'].value_counts()"
      ],
      "metadata": {
        "colab": {
          "base_uri": "https://localhost:8080/",
          "height": 475
        },
        "id": "6UBIoevHjsDr",
        "outputId": "33c2e0f5-4e06-463d-e611-9be3f9e9d2f2"
      },
      "execution_count": null,
      "outputs": [
        {
          "output_type": "execute_result",
          "data": {
            "text/plain": [
              "2    353\n",
              "3    254\n",
              "1    193\n",
              "Name: Group_no, dtype: int64"
            ]
          },
          "metadata": {},
          "execution_count": 137
        },
        {
          "output_type": "display_data",
          "data": {
            "text/plain": [
              "<Figure size 640x480 with 1 Axes>"
            ],
            "image/png": "[encoded data removed]"
          },
          "metadata": {}
        }
      ]
    },
    {
      "cell_type": "code",
      "source": [
        "fig, (ax1, ax2) = plt.subplots(1, 2, figsize=(14, 4))\n",
        "pd.crosstab(train.credit_history,train.Group_no).plot(kind=\"bar\",ax=ax1)\n",
        "s = train.groupby(['credit_history'])['Group_no'].value_counts(normalize=True)\n",
        "print(s)\n",
        "sns.pointplot(\n",
        "    x=\"credit_history\",\n",
        "    y=\"Group_no\",\n",
        "    data=train,ax=ax2)"
      ],
      "metadata": {
        "colab": {
          "base_uri": "https://localhost:8080/",
          "height": 704
        },
        "id": "_pjvX7cPSnwo",
        "outputId": "502a807d-1faf-49f8-d0df-b879839adf31"
      },
      "execution_count": null,
      "outputs": [
        {
          "output_type": "stream",
          "name": "stdout",
          "text": [
            "credit_history  Group_no\n",
            "A30             1           0.515152\n",
            "                2           0.303030\n",
            "                3           0.181818\n",
            "A31             2           0.459459\n",
            "                3           0.324324\n",
            "                1           0.216216\n",
            "A32             2           0.469340\n",
            "                3           0.346698\n",
            "                1           0.183962\n",
            "A33             1           0.450704\n",
            "                2           0.366197\n",
            "                3           0.183099\n",
            "A34             2           0.429787\n",
            "                3           0.323404\n",
            "                1           0.246809\n",
            "Name: Group_no, dtype: float64\n"
          ]
        },
        {
          "output_type": "execute_result",
          "data": {
            "text/plain": [
              "<Axes: xlabel='credit_history', ylabel='Group_no'>"
            ]
          },
          "metadata": {},
          "execution_count": 138
        },
        {
          "output_type": "display_data",
          "data": {
            "text/plain": [
              "<Figure size 1400x400 with 2 Axes>"
            ],
            "image/png": "[encoded data removed]"
          },
          "metadata": {}
        }
      ]
    },
    {
      "cell_type": "code",
      "source": [
        "fig, (ax1, ax2) = plt.subplots(1, 2, figsize=(14, 4))\n",
        "pd.crosstab(train.account_info,train.Group_no).plot(kind=\"bar\",ax=ax1)\n",
        "s = train.groupby(['account_info'])['Group_no'].value_counts(normalize=True)\n",
        "print(s)\n",
        "sns.lineplot(\n",
        "    x=\"account_info\",\n",
        "    y=\"Group_no\",\n",
        "    data=train,ax=ax2)"
      ],
      "metadata": {
        "colab": {
          "base_uri": "https://localhost:8080/",
          "height": 652
        },
        "id": "ep1kONssSntH",
        "outputId": "c14a65cb-8a34-44f4-d6a6-d4dd039e3fe8"
      },
      "execution_count": null,
      "outputs": [
        {
          "output_type": "stream",
          "name": "stdout",
          "text": [
            "account_info  Group_no\n",
            "A11           2           0.444976\n",
            "              3           0.320574\n",
            "              1           0.234450\n",
            "A12           2           0.389381\n",
            "              1           0.309735\n",
            "              3           0.300885\n",
            "A13           3           0.509091\n",
            "              2           0.400000\n",
            "              1           0.090909\n",
            "A14           2           0.483871\n",
            "              3           0.293548\n",
            "              1           0.222581\n",
            "Name: Group_no, dtype: float64\n"
          ]
        },
        {
          "output_type": "execute_result",
          "data": {
            "text/plain": [
              "<Axes: xlabel='account_info', ylabel='Group_no'>"
            ]
          },
          "metadata": {},
          "execution_count": 139
        },
        {
          "output_type": "display_data",
          "data": {
            "text/plain": [
              "<Figure size 1400x400 with 2 Axes>"
            ],
            "image/png": "[encoded data removed]"
          },
          "metadata": {}
        }
      ]
    },
    {
      "cell_type": "code",
      "source": [
        "fig, (ax1, ax2) = plt.subplots(1, 2, figsize=(14, 4))\n",
        "pd.crosstab(train.purpose,train.Group_no).plot(kind=\"bar\",ax=ax1)\n",
        "s = train.groupby(['purpose'])['Group_no'].value_counts(normalize=True)\n",
        "print(s)\n",
        "sns.scatterplot(\n",
        "    x=\"purpose\",\n",
        "    y=\"Group_no\",\n",
        "    data=train,ax=ax2)"
      ],
      "metadata": {
        "colab": {
          "base_uri": "https://localhost:8080/",
          "height": 938
        },
        "id": "A_3UPL5USnqv",
        "outputId": "e7b47b23-770a-4906-ea21-d2fa76b6bad7"
      },
      "execution_count": null,
      "outputs": [
        {
          "output_type": "stream",
          "name": "stdout",
          "text": [
            "purpose  Group_no\n",
            "A40      3           0.461957\n",
            "         2           0.336957\n",
            "         1           0.201087\n",
            "A41      1           0.530864\n",
            "         2           0.407407\n",
            "         3           0.061728\n",
            "A410     1           0.600000\n",
            "         2           0.200000\n",
            "         3           0.200000\n",
            "A42      2           0.625000\n",
            "         1           0.187500\n",
            "         3           0.187500\n",
            "A43      2           0.488789\n",
            "         3           0.363229\n",
            "         1           0.147982\n",
            "A44      3           0.888889\n",
            "         2           0.111111\n",
            "A45      2           0.421053\n",
            "         3           0.368421\n",
            "         1           0.210526\n",
            "A46      3           0.377778\n",
            "         2           0.355556\n",
            "         1           0.266667\n",
            "A48      3           0.875000\n",
            "         2           0.125000\n",
            "A49      1           0.402597\n",
            "         2           0.402597\n",
            "         3           0.194805\n",
            "Name: Group_no, dtype: float64\n"
          ]
        },
        {
          "output_type": "execute_result",
          "data": {
            "text/plain": [
              "<Axes: xlabel='purpose', ylabel='Group_no'>"
            ]
          },
          "metadata": {},
          "execution_count": 140
        },
        {
          "output_type": "display_data",
          "data": {
            "text/plain": [
              "<Figure size 1400x400 with 2 Axes>"
            ],
            "image/png": "[encoded data removed]"
          },
          "metadata": {}
        }
      ]
    },
    {
      "cell_type": "code",
      "source": [
        "fig, (ax1, ax2) = plt.subplots(1, 2, figsize=(14, 4))\n",
        "pd.crosstab(train.savings_account,train.Group_no).plot(kind=\"bar\",ax=ax1)\n",
        "s = train.groupby(['savings_account'])['Group_no'].value_counts(normalize=True)\n",
        "print(s)\n",
        "sns.lineplot(\n",
        "    x=\"savings_account\",\n",
        "    y=\"Group_no\",\n",
        "    data=train,ax=ax2)"
      ],
      "metadata": {
        "colab": {
          "base_uri": "https://localhost:8080/",
          "height": 704
        },
        "id": "Jgdqdye7U4lB",
        "outputId": "7591bee2-f863-4320-8f20-f7ba7fa2fbac"
      },
      "execution_count": null,
      "outputs": [
        {
          "output_type": "stream",
          "name": "stdout",
          "text": [
            "savings_account  Group_no\n",
            "A61              2           0.449580\n",
            "                 3           0.313025\n",
            "                 1           0.237395\n",
            "A62              2           0.404494\n",
            "                 3           0.303371\n",
            "                 1           0.292135\n",
            "A63              2           0.490196\n",
            "                 3           0.431373\n",
            "                 1           0.078431\n",
            "A64              2           0.547619\n",
            "                 3           0.333333\n",
            "                 1           0.119048\n",
            "A65              2           0.387324\n",
            "                 1           0.316901\n",
            "                 3           0.295775\n",
            "Name: Group_no, dtype: float64\n"
          ]
        },
        {
          "output_type": "execute_result",
          "data": {
            "text/plain": [
              "<Axes: xlabel='savings_account', ylabel='Group_no'>"
            ]
          },
          "metadata": {},
          "execution_count": 141
        },
        {
          "output_type": "display_data",
          "data": {
            "text/plain": [
              "<Figure size 1400x400 with 2 Axes>"
            ],
            "image/png": "[encoded data removed]"
          },
          "metadata": {}
        }
      ]
    },
    {
      "cell_type": "code",
      "source": [
        "fig, (ax1, ax2) = plt.subplots(1, 2, figsize=(14, 4))\n",
        "pd.crosstab(train.personal_status,train.Group_no).plot(kind=\"bar\",ax=ax1)\n",
        "s = train.groupby(['personal_status'])['Group_no'].value_counts(normalize=True)\n",
        "print(s)\n",
        "sns.violinplot(\n",
        "    x=\"personal_status\",\n",
        "    y=\"Group_no\",\n",
        "    data=train,ax=ax2)"
      ],
      "metadata": {
        "colab": {
          "base_uri": "https://localhost:8080/",
          "height": 652
        },
        "id": "AmEuHGWVU4hX",
        "outputId": "c5e74a90-8202-499a-87a4-5b6c790ed4d0"
      },
      "execution_count": null,
      "outputs": [
        {
          "output_type": "stream",
          "name": "stdout",
          "text": [
            "personal_status  Group_no\n",
            "A91              2           0.526316\n",
            "                 3           0.263158\n",
            "                 1           0.210526\n",
            "A92              2           0.423529\n",
            "                 3           0.388235\n",
            "                 1           0.188235\n",
            "A93              2           0.462243\n",
            "                 1           0.292906\n",
            "                 3           0.244851\n",
            "A94              3           0.542857\n",
            "                 2           0.328571\n",
            "                 1           0.128571\n",
            "Name: Group_no, dtype: float64\n"
          ]
        },
        {
          "output_type": "execute_result",
          "data": {
            "text/plain": [
              "<Axes: xlabel='personal_status', ylabel='Group_no'>"
            ]
          },
          "metadata": {},
          "execution_count": 142
        },
        {
          "output_type": "display_data",
          "data": {
            "text/plain": [
              "<Figure size 1400x400 with 2 Axes>"
            ],
            "image/png": "[encoded data removed]"
          },
          "metadata": {}
        }
      ]
    },
    {
      "cell_type": "code",
      "source": [
        "fig, (ax1, ax2) = plt.subplots(1, 2, figsize=(14, 4))\n",
        "pd.crosstab(train.job_type,train.Group_no).plot(kind=\"bar\",ax=ax1)\n",
        "s = train.groupby(['job_type'])['Group_no'].value_counts(normalize=True)\n",
        "print(s)\n",
        "sns.lineplot(\n",
        "    x=\"job_type\",\n",
        "    y=\"Group_no\",\n",
        "    data=train,ax=ax2)"
      ],
      "metadata": {
        "colab": {
          "base_uri": "https://localhost:8080/",
          "height": 661
        },
        "id": "LCjQzviEU4ef",
        "outputId": "40d99a7a-da6c-4d40-f55b-e4c68fa1d624"
      },
      "execution_count": null,
      "outputs": [
        {
          "output_type": "stream",
          "name": "stdout",
          "text": [
            "job_type  Group_no\n",
            "A171      3           0.588235\n",
            "          2           0.294118\n",
            "          1           0.117647\n",
            "A172      3           0.478261\n",
            "          2           0.372671\n",
            "          1           0.149068\n",
            "A173      2           0.493042\n",
            "          3           0.306163\n",
            "          1           0.200795\n",
            "A174      1           0.554622\n",
            "          2           0.336134\n",
            "          3           0.109244\n",
            "Name: Group_no, dtype: float64\n"
          ]
        },
        {
          "output_type": "execute_result",
          "data": {
            "text/plain": [
              "<Axes: xlabel='job_type', ylabel='Group_no'>"
            ]
          },
          "metadata": {},
          "execution_count": 143
        },
        {
          "output_type": "display_data",
          "data": {
            "text/plain": [
              "<Figure size 1400x400 with 2 Axes>"
            ],
            "image/png": "[encoded data removed]"
          },
          "metadata": {}
        }
      ]
    },
    {
      "cell_type": "code",
      "source": [
        "fig, (ax1, ax2) = plt.subplots(1, 2, figsize=(14, 4))\n",
        "pd.crosstab(train.foreigner,train.Group_no).plot(kind=\"bar\",ax=ax1)\n",
        "s = train.groupby(['foreigner'])['Group_no'].value_counts(normalize=True)\n",
        "print(s)\n",
        "sns.violinplot(\n",
        "    x=\"foreigner\",\n",
        "    y=\"Group_no\",\n",
        "    data=train,ax=ax2)"
      ],
      "metadata": {
        "colab": {
          "base_uri": "https://localhost:8080/",
          "height": 557
        },
        "id": "bNlX1TMWU4b2",
        "outputId": "663583c2-545f-48f8-8c94-0a6439be2a7f"
      },
      "execution_count": null,
      "outputs": [
        {
          "output_type": "stream",
          "name": "stdout",
          "text": [
            "foreigner  Group_no\n",
            "A201       2           0.445019\n",
            "           3           0.307891\n",
            "           1           0.247089\n",
            "A202       3           0.592593\n",
            "           2           0.333333\n",
            "           1           0.074074\n",
            "Name: Group_no, dtype: float64\n"
          ]
        },
        {
          "output_type": "execute_result",
          "data": {
            "text/plain": [
              "<Axes: xlabel='foreigner', ylabel='Group_no'>"
            ]
          },
          "metadata": {},
          "execution_count": 144
        },
        {
          "output_type": "display_data",
          "data": {
            "text/plain": [
              "<Figure size 1400x400 with 2 Axes>"
            ],
            "image/png": "[encoded data removed]"
          },
          "metadata": {}
        }
      ]
    },
    {
      "cell_type": "code",
      "source": [
        "train.hist(figsize=(14,15),color='purple')"
      ],
      "metadata": {
        "colab": {
          "base_uri": "https://localhost:8080/",
          "height": 1000
        },
        "id": "Pbk__OdcU4Y0",
        "outputId": "753b6953-afb4-4f41-c210-8d0314ceadd6"
      },
      "execution_count": null,
      "outputs": [
        {
          "output_type": "execute_result",
          "data": {
            "text/plain": [
              "array([[<Axes: title={'center': 'duration_month'}>,\n",
              "        <Axes: title={'center': 'poi'}>,\n",
              "        <Axes: title={'center': 'resident_since'}>],\n",
              "       [<Axes: title={'center': 'age'}>,\n",
              "        <Axes: title={'center': 'credits_no'}>,\n",
              "        <Axes: title={'center': 'liables'}>],\n",
              "       [<Axes: title={'center': 'Group_no'}>, <Axes: >, <Axes: >]],\n",
              "      dtype=object)"
            ]
          },
          "metadata": {},
          "execution_count": 145
        },
        {
          "output_type": "display_data",
          "data": {
            "text/plain": [
              "<Figure size 1400x1500 with 9 Axes>"
            ],
            "image/png": "[encoded data removed]"
          },
          "metadata": {}
        }
      ]
    },
    {
      "cell_type": "code",
      "source": [
        " train.corr()"
      ],
      "metadata": {
        "colab": {
          "base_uri": "https://localhost:8080/",
          "height": 323
        },
        "id": "ta_3Ybw-lANy",
        "outputId": "a2c96e12-9e03-4f3e-bdc7-e584c030ed99"
      },
      "execution_count": null,
      "outputs": [
        {
          "output_type": "stream",
          "name": "stderr",
          "text": [
            "<ipython-input-146-0bc27f030cd9>:1: FutureWarning: The default value of numeric_only in DataFrame.corr is deprecated. In a future version, it will default to False. Select only valid columns or specify the value of numeric_only to silence this warning.\n",
            "  train.corr()\n"
          ]
        },
        {
          "output_type": "execute_result",
          "data": {
            "text/plain": [
              "                duration_month       poi  resident_since       age  \\\n",
              "duration_month        1.000000  0.076043        0.030762 -0.044905   \n",
              "poi                   0.076043  1.000000        0.039126  0.074168   \n",
              "resident_since        0.030762  0.039126        1.000000  0.250698   \n",
              "age                  -0.044905  0.074168        0.250698  1.000000   \n",
              "credits_no           -0.013814  0.014598        0.072087  0.138133   \n",
              "liables              -0.023749 -0.066821        0.050136  0.129216   \n",
              "Group_no             -0.588725  0.259414       -0.026316 -0.004424   \n",
              "\n",
              "                credits_no   liables  Group_no  \n",
              "duration_month   -0.013814 -0.023749 -0.588725  \n",
              "poi               0.014598 -0.066821  0.259414  \n",
              "resident_since    0.072087  0.050136 -0.026316  \n",
              "age               0.138133  0.129216 -0.004424  \n",
              "credits_no        1.000000  0.081980 -0.056597  \n",
              "liables           0.081980  1.000000 -0.009469  \n",
              "Group_no         -0.056597 -0.009469  1.000000  "
            ],
            "text/html": [
              "\n",
              "  <div id=\"df-a669ab5b-6bd5-4d0a-9c31-760506738dcc\">\n",
              "    <div class=\"colab-df-container\">\n",
              "      <div>\n",
              "<style scoped>\n",
              "    .dataframe tbody tr th:only-of-type {\n",
              "        vertical-align: middle;\n",
              "    }\n",
              "\n",
              "    .dataframe tbody tr th {\n",
              "        vertical-align: top;\n",
              "    }\n",
              "\n",
              "    .dataframe thead th {\n",
              "        text-align: right;\n",
              "    }\n",
              "</style>\n",
              "<table border=\"1\" class=\"dataframe\">\n",
              "  <thead>\n",
              "    <tr style=\"text-align: right;\">\n",
              "      <th></th>\n",
              "      <th>duration_month</th>\n",
              "      <th>poi</th>\n",
              "      <th>resident_since</th>\n",
              "      <th>age</th>\n",
              "      <th>credits_no</th>\n",
              "      <th>liables</th>\n",
              "      <th>Group_no</th>\n",
              "    </tr>\n",
              "  </thead>\n",
              "  <tbody>\n",
              "    <tr>\n",
              "      <th>duration_month</th>\n",
              "      <td>1.000000</td>\n",
              "      <td>0.076043</td>\n",
              "      <td>0.030762</td>\n",
              "      <td>-0.044905</td>\n",
              "      <td>-0.013814</td>\n",
              "      <td>-0.023749</td>\n",
              "      <td>-0.588725</td>\n",
              "    </tr>\n",
              "    <tr>\n",
              "      <th>poi</th>\n",
              "      <td>0.076043</td>\n",
              "      <td>1.000000</td>\n",
              "      <td>0.039126</td>\n",
              "      <td>0.074168</td>\n",
              "      <td>0.014598</td>\n",
              "      <td>-0.066821</td>\n",
              "      <td>0.259414</td>\n",
              "    </tr>\n",
              "    <tr>\n",
              "      <th>resident_since</th>\n",
              "      <td>0.030762</td>\n",
              "      <td>0.039126</td>\n",
              "      <td>1.000000</td>\n",
              "      <td>0.250698</td>\n",
              "      <td>0.072087</td>\n",
              "      <td>0.050136</td>\n",
              "      <td>-0.026316</td>\n",
              "    </tr>\n",
              "    <tr>\n",
              "      <th>age</th>\n",
              "      <td>-0.044905</td>\n",
              "      <td>0.074168</td>\n",
              "      <td>0.250698</td>\n",
              "      <td>1.000000</td>\n",
              "      <td>0.138133</td>\n",
              "      <td>0.129216</td>\n",
              "      <td>-0.004424</td>\n",
              "    </tr>\n",
              "    <tr>\n",
              "      <th>credits_no</th>\n",
              "      <td>-0.013814</td>\n",
              "      <td>0.014598</td>\n",
              "      <td>0.072087</td>\n",
              "      <td>0.138133</td>\n",
              "      <td>1.000000</td>\n",
              "      <td>0.081980</td>\n",
              "      <td>-0.056597</td>\n",
              "    </tr>\n",
              "    <tr>\n",
              "      <th>liables</th>\n",
              "      <td>-0.023749</td>\n",
              "      <td>-0.066821</td>\n",
              "      <td>0.050136</td>\n",
              "      <td>0.129216</td>\n",
              "      <td>0.081980</td>\n",
              "      <td>1.000000</td>\n",
              "      <td>-0.009469</td>\n",
              "    </tr>\n",
              "    <tr>\n",
              "      <th>Group_no</th>\n",
              "      <td>-0.588725</td>\n",
              "      <td>0.259414</td>\n",
              "      <td>-0.026316</td>\n",
              "      <td>-0.004424</td>\n",
              "      <td>-0.056597</td>\n",
              "      <td>-0.009469</td>\n",
              "      <td>1.000000</td>\n",
              "    </tr>\n",
              "  </tbody>\n",
              "</table>\n",
              "</div>\n",
              "      <button class=\"colab-df-convert\" onclick=\"convertToInteractive('df-a669ab5b-6bd5-4d0a-9c31-760506738dcc')\"\n",
              "              title=\"Convert this dataframe to an interactive table.\"\n",
              "              style=\"display:none;\">\n",
              "        \n",
              "  <svg xmlns=\"http://www.w3.org/2000/svg\" height=\"24px\"viewBox=\"0 0 24 24\"\n",
              "       width=\"24px\">\n",
              "    <path d=\"M0 0h24v24H0V0z\" fill=\"none\"/>\n",
              "    <path d=\"M18.56 5.44l.94 2.06.94-2.06 2.06-.94-2.06-.94-.94-2.06-.94 2.06-2.06.94zm-11 1L8.5 8.5l.94-2.06 2.06-.94-2.06-.94L8.5 2.5l-.94 2.06-2.06.94zm10 10l.94 2.06.94-2.06 2.06-.94-2.06-.94-.94-2.06-.94 2.06-2.06.94z\"/><path d=\"M17.41 7.96l-1.37-1.37c-.4-.4-.92-.59-1.43-.59-.52 0-1.04.2-1.43.59L10.3 9.45l-7.72 7.72c-.78.78-.78 2.05 0 2.83L4 21.41c.39.39.9.59 1.41.59.51 0 1.02-.2 1.41-.59l7.78-7.78 2.81-2.81c.8-.78.8-2.07 0-2.86zM5.41 20L4 18.59l7.72-7.72 1.47 1.35L5.41 20z\"/>\n",
              "  </svg>\n",
              "      </button>\n",
              "      \n",
              "  <style>\n",
              "    .colab-df-container {\n",
              "      display:flex;\n",
              "      flex-wrap:wrap;\n",
              "      gap: 12px;\n",
              "    }\n",
              "\n",
              "    .colab-df-convert {\n",
              "      background-color: #E8F0FE;\n",
              "      border: none;\n",
              "      border-radius: 50%;\n",
              "      cursor: pointer;\n",
              "      display: none;\n",
              "      fill: #1967D2;\n",
              "      height: 32px;\n",
              "      padding: 0 0 0 0;\n",
              "      width: 32px;\n",
              "    }\n",
              "\n",
              "    .colab-df-convert:hover {\n",
              "      background-color: #E2EBFA;\n",
              "      box-shadow: 0px 1px 2px rgba(60, 64, 67, 0.3), 0px 1px 3px 1px rgba(60, 64, 67, 0.15);\n",
              "      fill: #174EA6;\n",
              "    }\n",
              "\n",
              "    [theme=dark] .colab-df-convert {\n",
              "      background-color: #3B4455;\n",
              "      fill: #D2E3FC;\n",
              "    }\n",
              "\n",
              "    [theme=dark] .colab-df-convert:hover {\n",
              "      background-color: #434B5C;\n",
              "      box-shadow: 0px 1px 3px 1px rgba(0, 0, 0, 0.15);\n",
              "      filter: drop-shadow(0px 1px 2px rgba(0, 0, 0, 0.3));\n",
              "      fill: #FFFFFF;\n",
              "    }\n",
              "  </style>\n",
              "\n",
              "      <script>\n",
              "        const buttonEl =\n",
              "          document.querySelector('#df-a669ab5b-6bd5-4d0a-9c31-760506738dcc button.colab-df-convert');\n",
              "        buttonEl.style.display =\n",
              "          google.colab.kernel.accessAllowed ? 'block' : 'none';\n",
              "\n",
              "        async function convertToInteractive(key) {\n",
              "          const element = document.querySelector('#df-a669ab5b-6bd5-4d0a-9c31-760506738dcc');\n",
              "          const dataTable =\n",
              "            await google.colab.kernel.invokeFunction('convertToInteractive',\n",
              "                                                     [key], {});\n",
              "          if (!dataTable) return;\n",
              "\n",
              "          const docLinkHtml = 'Like what you see? Visit the ' +\n",
              "            '<a target=\"_blank\" href=https://colab.research.google.com/notebooks/data_table.ipynb>data table notebook</a>'\n",
              "            + ' to learn more about interactive tables.';\n",
              "          element.innerHTML = '';\n",
              "          dataTable['output_type'] = 'display_data';\n",
              "          await google.colab.output.renderOutput(dataTable, element);\n",
              "          const docLink = document.createElement('div');\n",
              "          docLink.innerHTML = docLinkHtml;\n",
              "          element.appendChild(docLink);\n",
              "        }\n",
              "      </script>\n",
              "    </div>\n",
              "  </div>\n",
              "  "
            ]
          },
          "metadata": {},
          "execution_count": 146
        }
      ]
    },
    {
      "cell_type": "code",
      "source": [
        "sns.heatmap(train.corr(),annot=True)"
      ],
      "metadata": {
        "colab": {
          "base_uri": "https://localhost:8080/",
          "height": 604
        },
        "id": "1TG9K2uVpBkr",
        "outputId": "ffc47924-2283-4792-a2ad-1cec4eab58d4"
      },
      "execution_count": null,
      "outputs": [
        {
          "output_type": "stream",
          "name": "stderr",
          "text": [
            "<ipython-input-147-8ae1bc75c7f8>:1: FutureWarning: The default value of numeric_only in DataFrame.corr is deprecated. In a future version, it will default to False. Select only valid columns or specify the value of numeric_only to silence this warning.\n",
            "  sns.heatmap(train.corr(),annot=True)\n"
          ]
        },
        {
          "output_type": "execute_result",
          "data": {
            "text/plain": [
              "<Axes: >"
            ]
          },
          "metadata": {},
          "execution_count": 147
        },
        {
          "output_type": "display_data",
          "data": {
            "text/plain": [
              "<Figure size 640x480 with 2 Axes>"
            ],
            "image/png": "[encoded data removed]"
          },
          "metadata": {}
        }
      ]
    },
    {
      "cell_type": "markdown",
      "source": [
        "#Encoding The values"
      ],
      "metadata": {
        "id": "ujpRky53SGv2"
      }
    },
    {
      "cell_type": "code",
      "source": [
        "def encode(data):\n",
        "  le=LabelEncoder()\n",
        "  for i in data.columns:\n",
        "    if data[i].dtype==\"object\":\n",
        "      data[i]=le.fit_transform(data[i])\n",
        "  return data"
      ],
      "metadata": {
        "id": "FYZ-fnO-pIP0"
      },
      "execution_count": null,
      "outputs": []
    },
    {
      "cell_type": "code",
      "source": [
        "encode(train)"
      ],
      "metadata": {
        "colab": {
          "base_uri": "https://localhost:8080/",
          "height": 487
        },
        "id": "CGyjPIMLuTrW",
        "outputId": "8981dc66-900a-4a97-94a3-58304141c13c"
      },
      "execution_count": null,
      "outputs": [
        {
          "output_type": "execute_result",
          "data": {
            "text/plain": [
              "     account_info  duration_month  credit_history  purpose  savings_account  \\\n",
              "0               0               6               4        4                4   \n",
              "1               1              48               2        4                0   \n",
              "2               3              12               4        7                0   \n",
              "3               0              42               2        3                0   \n",
              "4               0              24               3        0                0   \n",
              "..            ...             ...             ...      ...              ...   \n",
              "795             3               9               2        3                1   \n",
              "796             0              18               2        1                4   \n",
              "797             3              12               4        3                0   \n",
              "798             3              24               3        0                4   \n",
              "799             1               9               2        0                4   \n",
              "\n",
              "     employment_st  poi  personal_status  gurantors  resident_since  \\\n",
              "0                4  4.0                2          0               4   \n",
              "1                2  2.0                1          0               2   \n",
              "2                3  2.0                2          0               3   \n",
              "3                3  2.0                2          2               4   \n",
              "4                2  3.0                2          0               4   \n",
              "..             ...  ...              ...        ...             ...   \n",
              "795              1  2.0                1          0               4   \n",
              "796              4  1.0                2          0               4   \n",
              "797              1  2.0                1          0               4   \n",
              "798              4  4.0                3          0               4   \n",
              "799              1  4.0                2          0               2   \n",
              "\n",
              "     property_type   age  installment_type  housing_type  credits_no  \\\n",
              "0                0  67.0                 2             1           2   \n",
              "1                0  22.0                 2             1           1   \n",
              "2                0  49.0                 2             1           1   \n",
              "3                1  45.0                 2             2           1   \n",
              "4                3  53.0                 2             2           2   \n",
              "..             ...   ...               ...           ...         ...   \n",
              "795              1  22.0                 2             0           1   \n",
              "796              1  51.0                 2             2           1   \n",
              "797              1  22.0                 2             0           2   \n",
              "798              2  54.0                 2             1           2   \n",
              "799              0  35.0                 2             1           1   \n",
              "\n",
              "     job_type  liables  telephone  foreigner  Group_no  \n",
              "0           2        1          1          0         3  \n",
              "1           2        1          0          0         1  \n",
              "2           1        2          0          0         2  \n",
              "3           2        2          0          0         1  \n",
              "4           2        2          0          0         1  \n",
              "..        ...      ...        ...        ...       ...  \n",
              "795         2        1          0          0         2  \n",
              "796         2        2          1          0         1  \n",
              "797         1        1          0          0         3  \n",
              "798         2        1          1          0         3  \n",
              "799         0        1          0          0         2  \n",
              "\n",
              "[800 rows x 20 columns]"
            ],
            "text/html": [
              "\n",
              "  <div id=\"df-da360f7e-2e0b-4d3f-99fb-0ded01a1daf8\">\n",
              "    <div class=\"colab-df-container\">\n",
              "      <div>\n",
              "<style scoped>\n",
              "    .dataframe tbody tr th:only-of-type {\n",
              "        vertical-align: middle;\n",
              "    }\n",
              "\n",
              "    .dataframe tbody tr th {\n",
              "        vertical-align: top;\n",
              "    }\n",
              "\n",
              "    .dataframe thead th {\n",
              "        text-align: right;\n",
              "    }\n",
              "</style>\n",
              "<table border=\"1\" class=\"dataframe\">\n",
              "  <thead>\n",
              "    <tr style=\"text-align: right;\">\n",
              "      <th></th>\n",
              "      <th>account_info</th>\n",
              "      <th>duration_month</th>\n",
              "      <th>credit_history</th>\n",
              "      <th>purpose</th>\n",
              "      <th>savings_account</th>\n",
              "      <th>employment_st</th>\n",
              "      <th>poi</th>\n",
              "      <th>personal_status</th>\n",
              "      <th>gurantors</th>\n",
              "      <th>resident_since</th>\n",
              "      <th>property_type</th>\n",
              "      <th>age</th>\n",
              "      <th>installment_type</th>\n",
              "      <th>housing_type</th>\n",
              "      <th>credits_no</th>\n",
              "      <th>job_type</th>\n",
              "      <th>liables</th>\n",
              "      <th>telephone</th>\n",
              "      <th>foreigner</th>\n",
              "      <th>Group_no</th>\n",
              "    </tr>\n",
              "  </thead>\n",
              "  <tbody>\n",
              "    <tr>\n",
              "      <th>0</th>\n",
              "      <td>0</td>\n",
              "      <td>6</td>\n",
              "      <td>4</td>\n",
              "      <td>4</td>\n",
              "      <td>4</td>\n",
              "      <td>4</td>\n",
              "      <td>4.0</td>\n",
              "      <td>2</td>\n",
              "      <td>0</td>\n",
              "      <td>4</td>\n",
              "      <td>0</td>\n",
              "      <td>67.0</td>\n",
              "      <td>2</td>\n",
              "      <td>1</td>\n",
              "      <td>2</td>\n",
              "      <td>2</td>\n",
              "      <td>1</td>\n",
              "      <td>1</td>\n",
              "      <td>0</td>\n",
              "      <td>3</td>\n",
              "    </tr>\n",
              "    <tr>\n",
              "      <th>1</th>\n",
              "      <td>1</td>\n",
              "      <td>48</td>\n",
              "      <td>2</td>\n",
              "      <td>4</td>\n",
              "      <td>0</td>\n",
              "      <td>2</td>\n",
              "      <td>2.0</td>\n",
              "      <td>1</td>\n",
              "      <td>0</td>\n",
              "      <td>2</td>\n",
              "      <td>0</td>\n",
              "      <td>22.0</td>\n",
              "      <td>2</td>\n",
              "      <td>1</td>\n",
              "      <td>1</td>\n",
              "      <td>2</td>\n",
              "      <td>1</td>\n",
              "      <td>0</td>\n",
              "      <td>0</td>\n",
              "      <td>1</td>\n",
              "    </tr>\n",
              "    <tr>\n",
              "      <th>2</th>\n",
              "      <td>3</td>\n",
              "      <td>12</td>\n",
              "      <td>4</td>\n",
              "      <td>7</td>\n",
              "      <td>0</td>\n",
              "      <td>3</td>\n",
              "      <td>2.0</td>\n",
              "      <td>2</td>\n",
              "      <td>0</td>\n",
              "      <td>3</td>\n",
              "      <td>0</td>\n",
              "      <td>49.0</td>\n",
              "      <td>2</td>\n",
              "      <td>1</td>\n",
              "      <td>1</td>\n",
              "      <td>1</td>\n",
              "      <td>2</td>\n",
              "      <td>0</td>\n",
              "      <td>0</td>\n",
              "      <td>2</td>\n",
              "    </tr>\n",
              "    <tr>\n",
              "      <th>3</th>\n",
              "      <td>0</td>\n",
              "      <td>42</td>\n",
              "      <td>2</td>\n",
              "      <td>3</td>\n",
              "      <td>0</td>\n",
              "      <td>3</td>\n",
              "      <td>2.0</td>\n",
              "      <td>2</td>\n",
              "      <td>2</td>\n",
              "      <td>4</td>\n",
              "      <td>1</td>\n",
              "      <td>45.0</td>\n",
              "      <td>2</td>\n",
              "      <td>2</td>\n",
              "      <td>1</td>\n",
              "      <td>2</td>\n",
              "      <td>2</td>\n",
              "      <td>0</td>\n",
              "      <td>0</td>\n",
              "      <td>1</td>\n",
              "    </tr>\n",
              "    <tr>\n",
              "      <th>4</th>\n",
              "      <td>0</td>\n",
              "      <td>24</td>\n",
              "      <td>3</td>\n",
              "      <td>0</td>\n",
              "      <td>0</td>\n",
              "      <td>2</td>\n",
              "      <td>3.0</td>\n",
              "      <td>2</td>\n",
              "      <td>0</td>\n",
              "      <td>4</td>\n",
              "      <td>3</td>\n",
              "      <td>53.0</td>\n",
              "      <td>2</td>\n",
              "      <td>2</td>\n",
              "      <td>2</td>\n",
              "      <td>2</td>\n",
              "      <td>2</td>\n",
              "      <td>0</td>\n",
              "      <td>0</td>\n",
              "      <td>1</td>\n",
              "    </tr>\n",
              "    <tr>\n",
              "      <th>...</th>\n",
              "      <td>...</td>\n",
              "      <td>...</td>\n",
              "      <td>...</td>\n",
              "      <td>...</td>\n",
              "      <td>...</td>\n",
              "      <td>...</td>\n",
              "      <td>...</td>\n",
              "      <td>...</td>\n",
              "      <td>...</td>\n",
              "      <td>...</td>\n",
              "      <td>...</td>\n",
              "      <td>...</td>\n",
              "      <td>...</td>\n",
              "      <td>...</td>\n",
              "      <td>...</td>\n",
              "      <td>...</td>\n",
              "      <td>...</td>\n",
              "      <td>...</td>\n",
              "      <td>...</td>\n",
              "      <td>...</td>\n",
              "    </tr>\n",
              "    <tr>\n",
              "      <th>795</th>\n",
              "      <td>3</td>\n",
              "      <td>9</td>\n",
              "      <td>2</td>\n",
              "      <td>3</td>\n",
              "      <td>1</td>\n",
              "      <td>1</td>\n",
              "      <td>2.0</td>\n",
              "      <td>1</td>\n",
              "      <td>0</td>\n",
              "      <td>4</td>\n",
              "      <td>1</td>\n",
              "      <td>22.0</td>\n",
              "      <td>2</td>\n",
              "      <td>0</td>\n",
              "      <td>1</td>\n",
              "      <td>2</td>\n",
              "      <td>1</td>\n",
              "      <td>0</td>\n",
              "      <td>0</td>\n",
              "      <td>2</td>\n",
              "    </tr>\n",
              "    <tr>\n",
              "      <th>796</th>\n",
              "      <td>0</td>\n",
              "      <td>18</td>\n",
              "      <td>2</td>\n",
              "      <td>1</td>\n",
              "      <td>4</td>\n",
              "      <td>4</td>\n",
              "      <td>1.0</td>\n",
              "      <td>2</td>\n",
              "      <td>0</td>\n",
              "      <td>4</td>\n",
              "      <td>1</td>\n",
              "      <td>51.0</td>\n",
              "      <td>2</td>\n",
              "      <td>2</td>\n",
              "      <td>1</td>\n",
              "      <td>2</td>\n",
              "      <td>2</td>\n",
              "      <td>1</td>\n",
              "      <td>0</td>\n",
              "      <td>1</td>\n",
              "    </tr>\n",
              "    <tr>\n",
              "      <th>797</th>\n",
              "      <td>3</td>\n",
              "      <td>12</td>\n",
              "      <td>4</td>\n",
              "      <td>3</td>\n",
              "      <td>0</td>\n",
              "      <td>1</td>\n",
              "      <td>2.0</td>\n",
              "      <td>1</td>\n",
              "      <td>0</td>\n",
              "      <td>4</td>\n",
              "      <td>1</td>\n",
              "      <td>22.0</td>\n",
              "      <td>2</td>\n",
              "      <td>0</td>\n",
              "      <td>2</td>\n",
              "      <td>1</td>\n",
              "      <td>1</td>\n",
              "      <td>0</td>\n",
              "      <td>0</td>\n",
              "      <td>3</td>\n",
              "    </tr>\n",
              "    <tr>\n",
              "      <th>798</th>\n",
              "      <td>3</td>\n",
              "      <td>24</td>\n",
              "      <td>3</td>\n",
              "      <td>0</td>\n",
              "      <td>4</td>\n",
              "      <td>4</td>\n",
              "      <td>4.0</td>\n",
              "      <td>3</td>\n",
              "      <td>0</td>\n",
              "      <td>4</td>\n",
              "      <td>2</td>\n",
              "      <td>54.0</td>\n",
              "      <td>2</td>\n",
              "      <td>1</td>\n",
              "      <td>2</td>\n",
              "      <td>2</td>\n",
              "      <td>1</td>\n",
              "      <td>1</td>\n",
              "      <td>0</td>\n",
              "      <td>3</td>\n",
              "    </tr>\n",
              "    <tr>\n",
              "      <th>799</th>\n",
              "      <td>1</td>\n",
              "      <td>9</td>\n",
              "      <td>2</td>\n",
              "      <td>0</td>\n",
              "      <td>4</td>\n",
              "      <td>1</td>\n",
              "      <td>4.0</td>\n",
              "      <td>2</td>\n",
              "      <td>0</td>\n",
              "      <td>2</td>\n",
              "      <td>0</td>\n",
              "      <td>35.0</td>\n",
              "      <td>2</td>\n",
              "      <td>1</td>\n",
              "      <td>1</td>\n",
              "      <td>0</td>\n",
              "      <td>1</td>\n",
              "      <td>0</td>\n",
              "      <td>0</td>\n",
              "      <td>2</td>\n",
              "    </tr>\n",
              "  </tbody>\n",
              "</table>\n",
              "<p>800 rows × 20 columns</p>\n",
              "</div>\n",
              "      <button class=\"colab-df-convert\" onclick=\"convertToInteractive('df-da360f7e-2e0b-4d3f-99fb-0ded01a1daf8')\"\n",
              "              title=\"Convert this dataframe to an interactive table.\"\n",
              "              style=\"display:none;\">\n",
              "        \n",
              "  <svg xmlns=\"http://www.w3.org/2000/svg\" height=\"24px\"viewBox=\"0 0 24 24\"\n",
              "       width=\"24px\">\n",
              "    <path d=\"M0 0h24v24H0V0z\" fill=\"none\"/>\n",
              "    <path d=\"M18.56 5.44l.94 2.06.94-2.06 2.06-.94-2.06-.94-.94-2.06-.94 2.06-2.06.94zm-11 1L8.5 8.5l.94-2.06 2.06-.94-2.06-.94L8.5 2.5l-.94 2.06-2.06.94zm10 10l.94 2.06.94-2.06 2.06-.94-2.06-.94-.94-2.06-.94 2.06-2.06.94z\"/><path d=\"M17.41 7.96l-1.37-1.37c-.4-.4-.92-.59-1.43-.59-.52 0-1.04.2-1.43.59L10.3 9.45l-7.72 7.72c-.78.78-.78 2.05 0 2.83L4 21.41c.39.39.9.59 1.41.59.51 0 1.02-.2 1.41-.59l7.78-7.78 2.81-2.81c.8-.78.8-2.07 0-2.86zM5.41 20L4 18.59l7.72-7.72 1.47 1.35L5.41 20z\"/>\n",
              "  </svg>\n",
              "      </button>\n",
              "      \n",
              "  <style>\n",
              "    .colab-df-container {\n",
              "      display:flex;\n",
              "      flex-wrap:wrap;\n",
              "      gap: 12px;\n",
              "    }\n",
              "\n",
              "    .colab-df-convert {\n",
              "      background-color: #E8F0FE;\n",
              "      border: none;\n",
              "      border-radius: 50%;\n",
              "      cursor: pointer;\n",
              "      display: none;\n",
              "      fill: #1967D2;\n",
              "      height: 32px;\n",
              "      padding: 0 0 0 0;\n",
              "      width: 32px;\n",
              "    }\n",
              "\n",
              "    .colab-df-convert:hover {\n",
              "      background-color: #E2EBFA;\n",
              "      box-shadow: 0px 1px 2px rgba(60, 64, 67, 0.3), 0px 1px 3px 1px rgba(60, 64, 67, 0.15);\n",
              "      fill: #174EA6;\n",
              "    }\n",
              "\n",
              "    [theme=dark] .colab-df-convert {\n",
              "      background-color: #3B4455;\n",
              "      fill: #D2E3FC;\n",
              "    }\n",
              "\n",
              "    [theme=dark] .colab-df-convert:hover {\n",
              "      background-color: #434B5C;\n",
              "      box-shadow: 0px 1px 3px 1px rgba(0, 0, 0, 0.15);\n",
              "      filter: drop-shadow(0px 1px 2px rgba(0, 0, 0, 0.3));\n",
              "      fill: #FFFFFF;\n",
              "    }\n",
              "  </style>\n",
              "\n",
              "      <script>\n",
              "        const buttonEl =\n",
              "          document.querySelector('#df-da360f7e-2e0b-4d3f-99fb-0ded01a1daf8 button.colab-df-convert');\n",
              "        buttonEl.style.display =\n",
              "          google.colab.kernel.accessAllowed ? 'block' : 'none';\n",
              "\n",
              "        async function convertToInteractive(key) {\n",
              "          const element = document.querySelector('#df-da360f7e-2e0b-4d3f-99fb-0ded01a1daf8');\n",
              "          const dataTable =\n",
              "            await google.colab.kernel.invokeFunction('convertToInteractive',\n",
              "                                                     [key], {});\n",
              "          if (!dataTable) return;\n",
              "\n",
              "          const docLinkHtml = 'Like what you see? Visit the ' +\n",
              "            '<a target=\"_blank\" href=https://colab.research.google.com/notebooks/data_table.ipynb>data table notebook</a>'\n",
              "            + ' to learn more about interactive tables.';\n",
              "          element.innerHTML = '';\n",
              "          dataTable['output_type'] = 'display_data';\n",
              "          await google.colab.output.renderOutput(dataTable, element);\n",
              "          const docLink = document.createElement('div');\n",
              "          docLink.innerHTML = docLinkHtml;\n",
              "          element.appendChild(docLink);\n",
              "        }\n",
              "      </script>\n",
              "    </div>\n",
              "  </div>\n",
              "  "
            ]
          },
          "metadata": {},
          "execution_count": 149
        }
      ]
    },
    {
      "cell_type": "code",
      "source": [
        "train.info()"
      ],
      "metadata": {
        "colab": {
          "base_uri": "https://localhost:8080/"
        },
        "id": "iru1BVc_iw2W",
        "outputId": "0c881090-54ea-47b0-ce2f-312e940edb9b"
      },
      "execution_count": null,
      "outputs": [
        {
          "output_type": "stream",
          "name": "stdout",
          "text": [
            "<class 'pandas.core.frame.DataFrame'>\n",
            "RangeIndex: 800 entries, 0 to 799\n",
            "Data columns (total 20 columns):\n",
            " #   Column            Non-Null Count  Dtype  \n",
            "---  ------            --------------  -----  \n",
            " 0   account_info      800 non-null    int64  \n",
            " 1   duration_month    800 non-null    int64  \n",
            " 2   credit_history    800 non-null    int64  \n",
            " 3   purpose           800 non-null    int64  \n",
            " 4   savings_account   800 non-null    int64  \n",
            " 5   employment_st     800 non-null    int64  \n",
            " 6   poi               800 non-null    float64\n",
            " 7   personal_status   800 non-null    int64  \n",
            " 8   gurantors         800 non-null    int64  \n",
            " 9   resident_since    800 non-null    int64  \n",
            " 10  property_type     800 non-null    int64  \n",
            " 11  age               800 non-null    float64\n",
            " 12  installment_type  800 non-null    int64  \n",
            " 13  housing_type      800 non-null    int64  \n",
            " 14  credits_no        800 non-null    int64  \n",
            " 15  job_type          800 non-null    int64  \n",
            " 16  liables           800 non-null    int64  \n",
            " 17  telephone         800 non-null    int64  \n",
            " 18  foreigner         800 non-null    int64  \n",
            " 19  Group_no          800 non-null    int64  \n",
            "dtypes: float64(2), int64(18)\n",
            "memory usage: 125.1 KB\n"
          ]
        }
      ]
    },
    {
      "cell_type": "markdown",
      "source": [
        "#Train test split"
      ],
      "metadata": {
        "id": "Dfb5e4_WSNqz"
      }
    },
    {
      "cell_type": "code",
      "source": [
        " x=train.drop(['Group_no'],axis=1)\n",
        " y=train['Group_no']"
      ],
      "metadata": {
        "id": "IPx0x6G5uggu"
      },
      "execution_count": null,
      "outputs": []
    },
    {
      "cell_type": "code",
      "source": [
        "x_train,x_test,y_train,y_test=train_test_split(x,y,test_size=0.2,random_state=162)"
      ],
      "metadata": {
        "id": "-_WIZm1Fu2Xv"
      },
      "execution_count": null,
      "outputs": []
    },
    {
      "cell_type": "markdown",
      "source": [
        "#logistic regression"
      ],
      "metadata": {
        "id": "GA0Ywpu2I-bA"
      }
    },
    {
      "cell_type": "code",
      "source": [
        "\n",
        "lr=LogisticRegression()\n",
        "lr.fit(x_train,y_train)\n",
        "preds_ytrain_lr=lr.predict(x_train)\n",
        "preds_ytest_lr=lr.predict(x_test)"
      ],
      "metadata": {
        "colab": {
          "base_uri": "https://localhost:8080/"
        },
        "id": "mvmurHjKu6ef",
        "outputId": "4efc445b-9e69-4382-bbd2-8937a9d5a7c0"
      },
      "execution_count": null,
      "outputs": [
        {
          "output_type": "stream",
          "name": "stderr",
          "text": [
            "/usr/local/lib/python3.10/dist-packages/sklearn/linear_model/_logistic.py:458: ConvergenceWarning: lbfgs failed to converge (status=1):\n",
            "STOP: TOTAL NO. of ITERATIONS REACHED LIMIT.\n",
            "\n",
            "Increase the number of iterations (max_iter) or scale the data as shown in:\n",
            "    https://scikit-learn.org/stable/modules/preprocessing.html\n",
            "Please also refer to the documentation for alternative solver options:\n",
            "    https://scikit-learn.org/stable/modules/linear_model.html#logistic-regression\n",
            "  n_iter_i = _check_optimize_result(\n"
          ]
        }
      ]
    },
    {
      "cell_type": "code",
      "source": [
        "def acc_report(actual,predicted):\n",
        "   acc_score=accuracy_score(actual,predicted)\n",
        "   cn_matrix=confusion_matrix(actual,predicted)\n",
        "   cla_report=classification_report(actual,predicted)\n",
        "   print('accuracy::',acc_score.round(2))\n",
        "   print(cn_matrix)\n",
        "   print(cla_report)\n",
        "acc_report(y_test,preds_ytest_lr)\n",
        "print(\"::::::::::::::::::::::::::::::::::::::::::::::::::::::::::::::::::::::::::::::::::::::::::::\")\n",
        "acc_report(y_train,preds_ytrain_lr)"
      ],
      "metadata": {
        "colab": {
          "base_uri": "https://localhost:8080/"
        },
        "id": "5Q4KUjxqu-Jg",
        "outputId": "1df7e0e6-d787-41cc-a102-b0913691d51f"
      },
      "execution_count": null,
      "outputs": [
        {
          "output_type": "stream",
          "name": "stdout",
          "text": [
            "accuracy:: 0.65\n",
            "[[26 13  0]\n",
            " [ 9 51 10]\n",
            " [ 2 22 27]]\n",
            "              precision    recall  f1-score   support\n",
            "\n",
            "           1       0.70      0.67      0.68        39\n",
            "           2       0.59      0.73      0.65        70\n",
            "           3       0.73      0.53      0.61        51\n",
            "\n",
            "    accuracy                           0.65       160\n",
            "   macro avg       0.68      0.64      0.65       160\n",
            "weighted avg       0.66      0.65      0.65       160\n",
            "\n",
            "::::::::::::::::::::::::::::::::::::::::::::::::::::::::::::::::::::::::::::::::::::::::::::\n",
            "accuracy:: 0.66\n",
            "[[ 96  55   3]\n",
            " [ 32 193  58]\n",
            " [  1  69 133]]\n",
            "              precision    recall  f1-score   support\n",
            "\n",
            "           1       0.74      0.62      0.68       154\n",
            "           2       0.61      0.68      0.64       283\n",
            "           3       0.69      0.66      0.67       203\n",
            "\n",
            "    accuracy                           0.66       640\n",
            "   macro avg       0.68      0.65      0.66       640\n",
            "weighted avg       0.67      0.66      0.66       640\n",
            "\n"
          ]
        }
      ]
    },
    {
      "cell_type": "markdown",
      "source": [
        "#Decision tree classifier"
      ],
      "metadata": {
        "id": "gL-31MrpM-Sv"
      }
    },
    {
      "cell_type": "code",
      "source": [
        "dtc=DecisionTreeClassifier(max_depth=5,min_samples_split=4)\n",
        "dtc.fit(x_train,y_train)\n",
        "preds_ytrain_dtc=dtc.predict(x_train)\n",
        "preds_ytest_dtc=dtc.predict(x_test)\n",
        "acc_report(y_train,preds_ytrain_dtc)\n",
        "acc_report(y_test,preds_ytest_dtc)"
      ],
      "metadata": {
        "colab": {
          "base_uri": "https://localhost:8080/"
        },
        "id": "DHMPWsjfvDBg",
        "outputId": "b91fe7b8-4905-44e0-f949-26edd10ea2bc"
      },
      "execution_count": null,
      "outputs": [
        {
          "output_type": "stream",
          "name": "stdout",
          "text": [
            "accuracy:: 0.74\n",
            "[[112  44   3]\n",
            " [ 23 207  48]\n",
            " [  1  50 152]]\n",
            "              precision    recall  f1-score   support\n",
            "\n",
            "           1       0.82      0.70      0.76       159\n",
            "           2       0.69      0.74      0.72       278\n",
            "           3       0.75      0.75      0.75       203\n",
            "\n",
            "    accuracy                           0.74       640\n",
            "   macro avg       0.75      0.73      0.74       640\n",
            "weighted avg       0.74      0.74      0.74       640\n",
            "\n",
            "accuracy:: 0.57\n",
            "[[21 13  0]\n",
            " [14 41 20]\n",
            " [ 2 19 30]]\n",
            "              precision    recall  f1-score   support\n",
            "\n",
            "           1       0.57      0.62      0.59        34\n",
            "           2       0.56      0.55      0.55        75\n",
            "           3       0.60      0.59      0.59        51\n",
            "\n",
            "    accuracy                           0.57       160\n",
            "   macro avg       0.58      0.58      0.58       160\n",
            "weighted avg       0.58      0.57      0.57       160\n",
            "\n"
          ]
        }
      ]
    },
    {
      "cell_type": "markdown",
      "source": [
        "#Random forest classifier"
      ],
      "metadata": {
        "id": "M7gbvbt_NCzy"
      }
    },
    {
      "cell_type": "code",
      "source": [
        "from sklearn.ensemble import RandomForestClassifier\n",
        "rf= RandomForestClassifier(verbose=1)\n",
        "rf.fit(x_train,y_train)\n",
        "preds_rf_train=rf.predict(x_train)\n",
        "preds_rf_test=rf.predict(x_test)"
      ],
      "metadata": {
        "colab": {
          "base_uri": "https://localhost:8080/"
        },
        "id": "VbrCFIL1HQEC",
        "outputId": "5733f523-8d63-4315-f126-6541da7f3462"
      },
      "execution_count": null,
      "outputs": [
        {
          "output_type": "stream",
          "name": "stderr",
          "text": [
            "[Parallel(n_jobs=1)]: Using backend SequentialBackend with 1 concurrent workers.\n",
            "[Parallel(n_jobs=1)]: Done 100 out of 100 | elapsed:    0.2s finished\n",
            "[Parallel(n_jobs=1)]: Using backend SequentialBackend with 1 concurrent workers.\n",
            "[Parallel(n_jobs=1)]: Done 100 out of 100 | elapsed:    0.0s finished\n",
            "[Parallel(n_jobs=1)]: Using backend SequentialBackend with 1 concurrent workers.\n",
            "[Parallel(n_jobs=1)]: Done 100 out of 100 | elapsed:    0.0s finished\n"
          ]
        }
      ]
    },
    {
      "cell_type": "code",
      "source": [
        "acc_report(y_train,preds_rf_train)"
      ],
      "metadata": {
        "colab": {
          "base_uri": "https://localhost:8080/"
        },
        "id": "Ld3XpDasHiOl",
        "outputId": "d2d663c5-4a8c-4459-f72d-8e4da6674018"
      },
      "execution_count": null,
      "outputs": [
        {
          "output_type": "stream",
          "name": "stdout",
          "text": [
            "accuracy:: 1.0\n",
            "[[159   0   0]\n",
            " [  0 278   0]\n",
            " [  0   0 203]]\n",
            "              precision    recall  f1-score   support\n",
            "\n",
            "           1       1.00      1.00      1.00       159\n",
            "           2       1.00      1.00      1.00       278\n",
            "           3       1.00      1.00      1.00       203\n",
            "\n",
            "    accuracy                           1.00       640\n",
            "   macro avg       1.00      1.00      1.00       640\n",
            "weighted avg       1.00      1.00      1.00       640\n",
            "\n"
          ]
        }
      ]
    },
    {
      "cell_type": "code",
      "source": [
        "acc_report(y_test,preds_rf_test)"
      ],
      "metadata": {
        "colab": {
          "base_uri": "https://localhost:8080/"
        },
        "id": "geFgryBlHl5E",
        "outputId": "8f9abd22-a2ed-4ea8-940b-5cee740122d0"
      },
      "execution_count": null,
      "outputs": [
        {
          "output_type": "stream",
          "name": "stdout",
          "text": [
            "accuracy:: 0.61\n",
            "[[21 13  0]\n",
            " [10 45 20]\n",
            " [ 0 20 31]]\n",
            "              precision    recall  f1-score   support\n",
            "\n",
            "           1       0.68      0.62      0.65        34\n",
            "           2       0.58      0.60      0.59        75\n",
            "           3       0.61      0.61      0.61        51\n",
            "\n",
            "    accuracy                           0.61       160\n",
            "   macro avg       0.62      0.61      0.61       160\n",
            "weighted avg       0.61      0.61      0.61       160\n",
            "\n"
          ]
        }
      ]
    },
    {
      "cell_type": "markdown",
      "source": [
        "#GradientBoostingClassifier"
      ],
      "metadata": {
        "id": "je0WykEwNPR-"
      }
    },
    {
      "cell_type": "code",
      "source": [
        "from sklearn.ensemble import GradientBoostingClassifier\n",
        "\n",
        "gb=GradientBoostingClassifier()\n",
        "gb.fit(x_train,y_train)\n",
        "preds_gb_train=gb.predict(x_train)\n",
        "preds_gb_test=gb.predict(x_test)\n",
        "acc_report(y_train,preds_gb_train)\n",
        "acc_report(y_test,preds_gb_test)"
      ],
      "metadata": {
        "colab": {
          "base_uri": "https://localhost:8080/"
        },
        "id": "5gI1P0JwHpRE",
        "outputId": "e18147f5-f390-4c77-ef7b-9e7d96af8493"
      },
      "execution_count": null,
      "outputs": [
        {
          "output_type": "stream",
          "name": "stdout",
          "text": [
            "accuracy:: 0.92\n",
            "[[145  14   0]\n",
            " [  6 259  13]\n",
            " [  0  18 185]]\n",
            "              precision    recall  f1-score   support\n",
            "\n",
            "           1       0.96      0.91      0.94       159\n",
            "           2       0.89      0.93      0.91       278\n",
            "           3       0.93      0.91      0.92       203\n",
            "\n",
            "    accuracy                           0.92       640\n",
            "   macro avg       0.93      0.92      0.92       640\n",
            "weighted avg       0.92      0.92      0.92       640\n",
            "\n",
            "accuracy:: 0.62\n",
            "[[20 13  1]\n",
            " [13 46 16]\n",
            " [ 0 18 33]]\n",
            "              precision    recall  f1-score   support\n",
            "\n",
            "           1       0.61      0.59      0.60        34\n",
            "           2       0.60      0.61      0.61        75\n",
            "           3       0.66      0.65      0.65        51\n",
            "\n",
            "    accuracy                           0.62       160\n",
            "   macro avg       0.62      0.62      0.62       160\n",
            "weighted avg       0.62      0.62      0.62       160\n",
            "\n"
          ]
        }
      ]
    },
    {
      "cell_type": "markdown",
      "source": [
        "# KNeighborsClassifier"
      ],
      "metadata": {
        "id": "WmSy2y_GNTay"
      }
    },
    {
      "cell_type": "code",
      "source": [
        "from sklearn.neighbors import KNeighborsClassifier\n",
        "\n",
        "knn=KNeighborsClassifier(n_neighbors=29)\n",
        "knn.fit(x_train,y_train)\n",
        "preds_ytrain_knn=knn.predict(x_train)\n",
        "preds_ytest_knn=knn.predict(x_test)\n",
        "acc_report(y_train,preds_ytrain_knn)"
      ],
      "metadata": {
        "colab": {
          "base_uri": "https://localhost:8080/"
        },
        "id": "JCxdlB6NH8rU",
        "outputId": "20264b0e-caed-465c-a424-e46ec5df38ee"
      },
      "execution_count": null,
      "outputs": [
        {
          "output_type": "stream",
          "name": "stdout",
          "text": [
            "accuracy:: 0.63\n",
            "[[ 81  64  14]\n",
            " [ 28 195  55]\n",
            " [  1  73 129]]\n",
            "              precision    recall  f1-score   support\n",
            "\n",
            "           1       0.74      0.51      0.60       159\n",
            "           2       0.59      0.70      0.64       278\n",
            "           3       0.65      0.64      0.64       203\n",
            "\n",
            "    accuracy                           0.63       640\n",
            "   macro avg       0.66      0.62      0.63       640\n",
            "weighted avg       0.64      0.63      0.63       640\n",
            "\n"
          ]
        }
      ]
    },
    {
      "cell_type": "code",
      "source": [
        "acc_report(y_test,preds_ytest_knn)"
      ],
      "metadata": {
        "colab": {
          "base_uri": "https://localhost:8080/"
        },
        "id": "9UrwCU_eIWut",
        "outputId": "bfc5e118-b23b-4e02-bc2e-77f3eba20a25"
      },
      "execution_count": null,
      "outputs": [
        {
          "output_type": "stream",
          "name": "stdout",
          "text": [
            "accuracy:: 0.56\n",
            "[[18 15  1]\n",
            " [ 9 41 25]\n",
            " [ 0 21 30]]\n",
            "              precision    recall  f1-score   support\n",
            "\n",
            "           1       0.67      0.53      0.59        34\n",
            "           2       0.53      0.55      0.54        75\n",
            "           3       0.54      0.59      0.56        51\n",
            "\n",
            "    accuracy                           0.56       160\n",
            "   macro avg       0.58      0.55      0.56       160\n",
            "weighted avg       0.56      0.56      0.56       160\n",
            "\n"
          ]
        }
      ]
    },
    {
      "cell_type": "markdown",
      "source": [
        "#Adaboost Classifier"
      ],
      "metadata": {
        "id": "t2ip2JLvNYTU"
      }
    },
    {
      "cell_type": "code",
      "source": [
        "ada=AdaBoostClassifier(n_estimators=200,learning_rate=0.9623)\n",
        "ada.fit(x_train,y_train)\n",
        "preds_ada_train=ada.predict(x_train)\n",
        "preds_ada_test=ada.predict(x_test)\n",
        "acc_report(y_train,preds_ada_train)\n",
        "acc_report(y_test,preds_ada_test)"
      ],
      "metadata": {
        "colab": {
          "base_uri": "https://localhost:8080/"
        },
        "id": "bZ6xpdTNIp9_",
        "outputId": "2a87f0f6-ce42-4b2e-e2ac-22448061b8da"
      },
      "execution_count": null,
      "outputs": [
        {
          "output_type": "stream",
          "name": "stdout",
          "text": [
            "accuracy:: 0.69\n",
            "[[116  40   3]\n",
            " [ 36 177  65]\n",
            " [  0  56 147]]\n",
            "              precision    recall  f1-score   support\n",
            "\n",
            "           1       0.76      0.73      0.75       159\n",
            "           2       0.65      0.64      0.64       278\n",
            "           3       0.68      0.72      0.70       203\n",
            "\n",
            "    accuracy                           0.69       640\n",
            "   macro avg       0.70      0.70      0.70       640\n",
            "weighted avg       0.69      0.69      0.69       640\n",
            "\n",
            "accuracy:: 0.6\n",
            "[[22 12  0]\n",
            " [15 41 19]\n",
            " [ 0 18 33]]\n",
            "              precision    recall  f1-score   support\n",
            "\n",
            "           1       0.59      0.65      0.62        34\n",
            "           2       0.58      0.55      0.56        75\n",
            "           3       0.63      0.65      0.64        51\n",
            "\n",
            "    accuracy                           0.60       160\n",
            "   macro avg       0.60      0.61      0.61       160\n",
            "weighted avg       0.60      0.60      0.60       160\n",
            "\n"
          ]
        }
      ]
    },
    {
      "cell_type": "markdown",
      "source": [
        "#After standard scaling"
      ],
      "metadata": {
        "id": "YtxSDGelI60c"
      }
    },
    {
      "cell_type": "code",
      "source": [
        "x_train,x_test,y_train,y_test=train_test_split(x,y,test_size=0.2,random_state=200)\n",
        "scalar=StandardScaler()\n",
        "x_train_scal=scalar.fit_transform(x_train)\n",
        "x_test_scal=scalar.fit_transform(x_test)"
      ],
      "metadata": {
        "id": "T_x161MoIvzV"
      },
      "execution_count": null,
      "outputs": []
    },
    {
      "cell_type": "markdown",
      "source": [
        "#Logistic Regression"
      ],
      "metadata": {
        "id": "cFYGvnjRNhA7"
      }
    },
    {
      "cell_type": "code",
      "source": [
        "lr=LogisticRegression()\n",
        "lr.fit(x_train_scal,y_train)\n",
        "preds_ytrain_lr=lr.predict(x_train_scal)\n",
        "preds_ytest_lr=lr.predict(x_test_scal)"
      ],
      "metadata": {
        "id": "53bk-HC8JBdX"
      },
      "execution_count": null,
      "outputs": []
    },
    {
      "cell_type": "code",
      "source": [
        "def acc_report(actual,predicted):\n",
        "   acc_score=accuracy_score(actual,predicted)\n",
        "   cn_matrix=confusion_matrix(actual,predicted)\n",
        "   cla_report=classification_report(actual,predicted)\n",
        "   print('accuracy::',acc_score.round(2))\n",
        "   print(cn_matrix)\n",
        "   print(cla_report)"
      ],
      "metadata": {
        "id": "u0yDrj_DJHDf"
      },
      "execution_count": null,
      "outputs": []
    },
    {
      "cell_type": "code",
      "source": [
        "acc_report(y_train,preds_ytrain_lr)\n",
        "acc_report(y_test,preds_ytest_lr)"
      ],
      "metadata": {
        "colab": {
          "base_uri": "https://localhost:8080/"
        },
        "id": "11CeaC2bJJ7A",
        "outputId": "25dd3030-287e-4fe9-caca-d4d513967aa1"
      },
      "execution_count": null,
      "outputs": [
        {
          "output_type": "stream",
          "name": "stdout",
          "text": [
            "accuracy:: 0.68\n",
            "[[114  45   3]\n",
            " [ 26 195  56]\n",
            " [  1  72 128]]\n",
            "              precision    recall  f1-score   support\n",
            "\n",
            "           1       0.81      0.70      0.75       162\n",
            "           2       0.62      0.70      0.66       277\n",
            "           3       0.68      0.64      0.66       201\n",
            "\n",
            "    accuracy                           0.68       640\n",
            "   macro avg       0.71      0.68      0.69       640\n",
            "weighted avg       0.69      0.68      0.68       640\n",
            "\n",
            "accuracy:: 0.64\n",
            "[[20 11  0]\n",
            " [11 52 13]\n",
            " [ 1 22 30]]\n",
            "              precision    recall  f1-score   support\n",
            "\n",
            "           1       0.62      0.65      0.63        31\n",
            "           2       0.61      0.68      0.65        76\n",
            "           3       0.70      0.57      0.62        53\n",
            "\n",
            "    accuracy                           0.64       160\n",
            "   macro avg       0.64      0.63      0.64       160\n",
            "weighted avg       0.64      0.64      0.64       160\n",
            "\n"
          ]
        }
      ]
    },
    {
      "cell_type": "markdown",
      "source": [
        "#Decision Tree Classifier"
      ],
      "metadata": {
        "id": "Gm3xAyLCNl1a"
      }
    },
    {
      "cell_type": "code",
      "source": [
        "dtc=DecisionTreeClassifier(max_depth=2,min_samples_split=4)\n",
        "dtc.fit(x_train_scal,y_train)\n",
        "preds_ytrain_dtc=dtc.predict(x_train_scal)\n",
        "preds_ytest_dtc=dtc.predict(x_test_scal)"
      ],
      "metadata": {
        "id": "p1pMdctSJPLz"
      },
      "execution_count": null,
      "outputs": []
    },
    {
      "cell_type": "code",
      "source": [
        "acc_report(y_train,preds_ytrain_dtc)\n",
        "acc_report(y_test,preds_ytest_dtc)"
      ],
      "metadata": {
        "colab": {
          "base_uri": "https://localhost:8080/"
        },
        "id": "z5_HL56EJYEX",
        "outputId": "e462d77e-affc-4c9f-9174-7c58b4fc24a8"
      },
      "execution_count": null,
      "outputs": [
        {
          "output_type": "stream",
          "name": "stdout",
          "text": [
            "accuracy:: 0.47\n",
            "[[  0 128  31]\n",
            " [  0 232  46]\n",
            " [  0 136  67]]\n",
            "              precision    recall  f1-score   support\n",
            "\n",
            "           1       0.00      0.00      0.00       159\n",
            "           2       0.47      0.83      0.60       278\n",
            "           3       0.47      0.33      0.39       203\n",
            "\n",
            "    accuracy                           0.47       640\n",
            "   macro avg       0.31      0.39      0.33       640\n",
            "weighted avg       0.35      0.47      0.38       640\n",
            "\n",
            "accuracy:: 0.45\n",
            "[[ 0 28  6]\n",
            " [ 0 58 17]\n",
            " [ 0 37 14]]\n",
            "              precision    recall  f1-score   support\n",
            "\n",
            "           1       0.00      0.00      0.00        34\n",
            "           2       0.47      0.77      0.59        75\n",
            "           3       0.38      0.27      0.32        51\n",
            "\n",
            "    accuracy                           0.45       160\n",
            "   macro avg       0.28      0.35      0.30       160\n",
            "weighted avg       0.34      0.45      0.38       160\n",
            "\n"
          ]
        },
        {
          "output_type": "stream",
          "name": "stderr",
          "text": [
            "/usr/local/lib/python3.10/dist-packages/sklearn/metrics/_classification.py:1344: UndefinedMetricWarning: Precision and F-score are ill-defined and being set to 0.0 in labels with no predicted samples. Use `zero_division` parameter to control this behavior.\n",
            "  _warn_prf(average, modifier, msg_start, len(result))\n",
            "/usr/local/lib/python3.10/dist-packages/sklearn/metrics/_classification.py:1344: UndefinedMetricWarning: Precision and F-score are ill-defined and being set to 0.0 in labels with no predicted samples. Use `zero_division` parameter to control this behavior.\n",
            "  _warn_prf(average, modifier, msg_start, len(result))\n",
            "/usr/local/lib/python3.10/dist-packages/sklearn/metrics/_classification.py:1344: UndefinedMetricWarning: Precision and F-score are ill-defined and being set to 0.0 in labels with no predicted samples. Use `zero_division` parameter to control this behavior.\n",
            "  _warn_prf(average, modifier, msg_start, len(result))\n",
            "/usr/local/lib/python3.10/dist-packages/sklearn/metrics/_classification.py:1344: UndefinedMetricWarning: Precision and F-score are ill-defined and being set to 0.0 in labels with no predicted samples. Use `zero_division` parameter to control this behavior.\n",
            "  _warn_prf(average, modifier, msg_start, len(result))\n",
            "/usr/local/lib/python3.10/dist-packages/sklearn/metrics/_classification.py:1344: UndefinedMetricWarning: Precision and F-score are ill-defined and being set to 0.0 in labels with no predicted samples. Use `zero_division` parameter to control this behavior.\n",
            "  _warn_prf(average, modifier, msg_start, len(result))\n",
            "/usr/local/lib/python3.10/dist-packages/sklearn/metrics/_classification.py:1344: UndefinedMetricWarning: Precision and F-score are ill-defined and being set to 0.0 in labels with no predicted samples. Use `zero_division` parameter to control this behavior.\n",
            "  _warn_prf(average, modifier, msg_start, len(result))\n"
          ]
        }
      ]
    },
    {
      "cell_type": "markdown",
      "source": [
        "#RandomForest Classifier"
      ],
      "metadata": {
        "id": "uvM6_WMjNraI"
      }
    },
    {
      "cell_type": "code",
      "source": [
        "rf= RandomForestClassifier(n_estimators=200,max_depth=60 ,verbose=1)\n",
        "rf.fit(x_train_scal,y_train)\n",
        "preds_rf_train=rf.predict(x_train_scal)\n",
        "preds_rf_test=rf.predict(x_test_scal)"
      ],
      "metadata": {
        "colab": {
          "base_uri": "https://localhost:8080/"
        },
        "id": "oFWW-ZN1Ja9u",
        "outputId": "cfee7b50-abb4-40d1-bce5-e838fa154dbe"
      },
      "execution_count": null,
      "outputs": [
        {
          "output_type": "stream",
          "name": "stderr",
          "text": [
            "[Parallel(n_jobs=1)]: Using backend SequentialBackend with 1 concurrent workers.\n",
            "[Parallel(n_jobs=1)]: Done 200 out of 200 | elapsed:    0.6s finished\n",
            "[Parallel(n_jobs=1)]: Using backend SequentialBackend with 1 concurrent workers.\n",
            "[Parallel(n_jobs=1)]: Done 200 out of 200 | elapsed:    0.1s finished\n",
            "[Parallel(n_jobs=1)]: Using backend SequentialBackend with 1 concurrent workers.\n",
            "[Parallel(n_jobs=1)]: Done 200 out of 200 | elapsed:    0.1s finished\n"
          ]
        }
      ]
    },
    {
      "cell_type": "code",
      "source": [
        "\n",
        "acc_report(y_train,preds_rf_train)\n",
        "acc_report(y_test,preds_rf_test)"
      ],
      "metadata": {
        "colab": {
          "base_uri": "https://localhost:8080/"
        },
        "id": "FJvVW4G4JdlZ",
        "outputId": "e6a83a33-e27d-4c04-be0d-e05af053e450"
      },
      "execution_count": null,
      "outputs": [
        {
          "output_type": "stream",
          "name": "stdout",
          "text": [
            "accuracy:: 1.0\n",
            "[[153   0   0]\n",
            " [  0 286   0]\n",
            " [  0   0 201]]\n",
            "              precision    recall  f1-score   support\n",
            "\n",
            "           1       1.00      1.00      1.00       153\n",
            "           2       1.00      1.00      1.00       286\n",
            "           3       1.00      1.00      1.00       201\n",
            "\n",
            "    accuracy                           1.00       640\n",
            "   macro avg       1.00      1.00      1.00       640\n",
            "weighted avg       1.00      1.00      1.00       640\n",
            "\n",
            "accuracy:: 0.68\n",
            "[[29 10  1]\n",
            " [ 3 49 15]\n",
            " [ 0 23 30]]\n",
            "              precision    recall  f1-score   support\n",
            "\n",
            "           1       0.91      0.72      0.81        40\n",
            "           2       0.60      0.73      0.66        67\n",
            "           3       0.65      0.57      0.61        53\n",
            "\n",
            "    accuracy                           0.68       160\n",
            "   macro avg       0.72      0.67      0.69       160\n",
            "weighted avg       0.69      0.68      0.68       160\n",
            "\n"
          ]
        }
      ]
    },
    {
      "cell_type": "markdown",
      "source": [
        "#Gradient boosting classifier"
      ],
      "metadata": {
        "id": "Y0dsd_8RNyzj"
      }
    },
    {
      "cell_type": "code",
      "source": [
        "from sklearn.ensemble import GradientBoostingClassifier\n",
        "\n",
        "gb=GradientBoostingClassifier()\n",
        "gb.fit(x_train_scal,y_train)\n",
        "preds_gb_train=gb.predict(x_train_scal)\n",
        "preds_gb_test=gb.predict(x_test_scal)\n",
        "acc_report(y_train,preds_gb_train)\n",
        "acc_report(y_test,preds_gb_test)"
      ],
      "metadata": {
        "colab": {
          "base_uri": "https://localhost:8080/"
        },
        "id": "7BeJb97tJrbb",
        "outputId": "ff61ee9f-f244-46c4-c2e8-5c591c911ad6"
      },
      "execution_count": null,
      "outputs": [
        {
          "output_type": "stream",
          "name": "stdout",
          "text": [
            "accuracy:: 0.91\n",
            "[[142  19   1]\n",
            " [  6 258  13]\n",
            " [  0  20 181]]\n",
            "              precision    recall  f1-score   support\n",
            "\n",
            "           1       0.96      0.88      0.92       162\n",
            "           2       0.87      0.93      0.90       277\n",
            "           3       0.93      0.90      0.91       201\n",
            "\n",
            "    accuracy                           0.91       640\n",
            "   macro avg       0.92      0.90      0.91       640\n",
            "weighted avg       0.91      0.91      0.91       640\n",
            "\n",
            "accuracy:: 0.66\n",
            "[[17 14  0]\n",
            " [ 8 56 12]\n",
            " [ 1 19 33]]\n",
            "              precision    recall  f1-score   support\n",
            "\n",
            "           1       0.65      0.55      0.60        31\n",
            "           2       0.63      0.74      0.68        76\n",
            "           3       0.73      0.62      0.67        53\n",
            "\n",
            "    accuracy                           0.66       160\n",
            "   macro avg       0.67      0.64      0.65       160\n",
            "weighted avg       0.67      0.66      0.66       160\n",
            "\n"
          ]
        }
      ]
    },
    {
      "cell_type": "markdown",
      "source": [
        "#KNeighbors classifier"
      ],
      "metadata": {
        "id": "VJUtDhYwN3Lw"
      }
    },
    {
      "cell_type": "code",
      "source": [
        "from sklearn.neighbors import KNeighborsClassifier\n",
        "\n",
        "knn=KNeighborsClassifier(n_neighbors=27)\n",
        "knn.fit(x_train_scal,y_train)\n",
        "preds_ytrain_knn=knn.predict(x_train_scal)\n",
        "preds_ytest_knn=knn.predict(x_test_scal)\n",
        "acc_report(y_train,preds_ytrain_knn)\n",
        "acc_report(y_test,preds_ytest_knn)"
      ],
      "metadata": {
        "colab": {
          "base_uri": "https://localhost:8080/"
        },
        "id": "KMhFemkbJuqj",
        "outputId": "8ab7fa8a-c617-4008-8dc0-19b92e1a5f13"
      },
      "execution_count": null,
      "outputs": [
        {
          "output_type": "stream",
          "name": "stdout",
          "text": [
            "accuracy:: 0.6\n",
            "[[ 61  97   4]\n",
            " [ 14 220  43]\n",
            " [  1  98 102]]\n",
            "              precision    recall  f1-score   support\n",
            "\n",
            "           1       0.80      0.38      0.51       162\n",
            "           2       0.53      0.79      0.64       277\n",
            "           3       0.68      0.51      0.58       201\n",
            "\n",
            "    accuracy                           0.60       640\n",
            "   macro avg       0.67      0.56      0.58       640\n",
            "weighted avg       0.65      0.60      0.59       640\n",
            "\n",
            "accuracy:: 0.58\n",
            "[[ 9 22  0]\n",
            " [ 3 60 13]\n",
            " [ 1 28 24]]\n",
            "              precision    recall  f1-score   support\n",
            "\n",
            "           1       0.69      0.29      0.41        31\n",
            "           2       0.55      0.79      0.65        76\n",
            "           3       0.65      0.45      0.53        53\n",
            "\n",
            "    accuracy                           0.58       160\n",
            "   macro avg       0.63      0.51      0.53       160\n",
            "weighted avg       0.61      0.58      0.56       160\n",
            "\n"
          ]
        }
      ]
    },
    {
      "cell_type": "markdown",
      "source": [
        "#Ada boost Classifier"
      ],
      "metadata": {
        "id": "vb8QmdUZN_Lc"
      }
    },
    {
      "cell_type": "code",
      "source": [
        "\n",
        "ada=AdaBoostClassifier(n_estimators=100,learning_rate=0.9623)\n",
        "ada.fit(x_train_scal,y_train)\n",
        "preds_ada_train=ada.predict(x_train_scal)\n",
        "preds_ada_test=ada.predict(x_test_scal)\n",
        "acc_report(y_train,preds_ada_train)\n",
        "acc_report(y_test,preds_ada_test)"
      ],
      "metadata": {
        "colab": {
          "base_uri": "https://localhost:8080/"
        },
        "id": "KX87JbuOLYs1",
        "outputId": "76e21078-37af-4ee8-e2e7-fa1077ec93fd"
      },
      "execution_count": null,
      "outputs": [
        {
          "output_type": "stream",
          "name": "stdout",
          "text": [
            "accuracy:: 0.68\n",
            "[[114  44   4]\n",
            " [ 40 182  55]\n",
            " [  2  60 139]]\n",
            "              precision    recall  f1-score   support\n",
            "\n",
            "           1       0.73      0.70      0.72       162\n",
            "           2       0.64      0.66      0.65       277\n",
            "           3       0.70      0.69      0.70       201\n",
            "\n",
            "    accuracy                           0.68       640\n",
            "   macro avg       0.69      0.68      0.69       640\n",
            "weighted avg       0.68      0.68      0.68       640\n",
            "\n",
            "accuracy:: 0.68\n",
            "[[17 13  1]\n",
            " [ 9 55 12]\n",
            " [ 0 17 36]]\n",
            "              precision    recall  f1-score   support\n",
            "\n",
            "           1       0.65      0.55      0.60        31\n",
            "           2       0.65      0.72      0.68        76\n",
            "           3       0.73      0.68      0.71        53\n",
            "\n",
            "    accuracy                           0.68       160\n",
            "   macro avg       0.68      0.65      0.66       160\n",
            "weighted avg       0.68      0.68      0.67       160\n",
            "\n"
          ]
        }
      ]
    },
    {
      "cell_type": "markdown",
      "source": [
        "#support vector classifier"
      ],
      "metadata": {
        "id": "tKuttEsOOGn-"
      }
    },
    {
      "cell_type": "code",
      "source": [
        "from sklearn.svm import SVC\n",
        "svc=SVC(kernel='poly',degree=3)\n",
        "svc.fit(x_train_scal,y_train)\n",
        "svc_preds_train=svc.predict(x_train_scal)\n",
        "svc_preds_test=svc.predict(x_test_scal)"
      ],
      "metadata": {
        "id": "7yiSQMTTLfg-"
      },
      "execution_count": null,
      "outputs": []
    },
    {
      "cell_type": "code",
      "source": [
        "acc_report(y_train,svc_preds_train)\n",
        "acc_report(y_test,svc_preds_test)"
      ],
      "metadata": {
        "colab": {
          "base_uri": "https://localhost:8080/"
        },
        "id": "DnB3VTOrLjst",
        "outputId": "a727b1ed-92e5-4cec-940a-9ae2bc016943"
      },
      "execution_count": null,
      "outputs": [
        {
          "output_type": "stream",
          "name": "stdout",
          "text": [
            "accuracy:: 0.79\n",
            "[[109  53   0]\n",
            " [  1 274   2]\n",
            " [  0  79 122]]\n",
            "              precision    recall  f1-score   support\n",
            "\n",
            "           1       0.99      0.67      0.80       162\n",
            "           2       0.67      0.99      0.80       277\n",
            "           3       0.98      0.61      0.75       201\n",
            "\n",
            "    accuracy                           0.79       640\n",
            "   macro avg       0.88      0.76      0.78       640\n",
            "weighted avg       0.85      0.79      0.79       640\n",
            "\n",
            "accuracy:: 0.57\n",
            "[[13 18  0]\n",
            " [ 5 65  6]\n",
            " [ 2 37 14]]\n",
            "              precision    recall  f1-score   support\n",
            "\n",
            "           1       0.65      0.42      0.51        31\n",
            "           2       0.54      0.86      0.66        76\n",
            "           3       0.70      0.26      0.38        53\n",
            "\n",
            "    accuracy                           0.57       160\n",
            "   macro avg       0.63      0.51      0.52       160\n",
            "weighted avg       0.62      0.57      0.54       160\n",
            "\n"
          ]
        }
      ]
    },
    {
      "cell_type": "markdown",
      "source": [
        "#GaussianNB"
      ],
      "metadata": {
        "id": "HY2C1YUjOLSp"
      }
    },
    {
      "cell_type": "code",
      "source": [
        "from sklearn.naive_bayes import GaussianNB\n",
        "gb=GaussianNB()\n",
        "gb.fit(x_train,y_train)"
      ],
      "metadata": {
        "colab": {
          "base_uri": "https://localhost:8080/",
          "height": 74
        },
        "id": "xh1jgeMILozt",
        "outputId": "c1accc6b-a532-4337-b819-3ab6f0133352"
      },
      "execution_count": null,
      "outputs": [
        {
          "output_type": "execute_result",
          "data": {
            "text/plain": [
              "GaussianNB()"
            ],
            "text/html": [
              "<style>#sk-container-id-3 {color: black;background-color: white;}#sk-container-id-3 pre{padding: 0;}#sk-container-id-3 div.sk-toggleable {background-color: white;}#sk-container-id-3 label.sk-toggleable__label {cursor: pointer;display: block;width: 100%;margin-bottom: 0;padding: 0.3em;box-sizing: border-box;text-align: center;}#sk-container-id-3 label.sk-toggleable__label-arrow:before {content: \"▸\";float: left;margin-right: 0.25em;color: #696969;}#sk-container-id-3 label.sk-toggleable__label-arrow:hover:before {color: black;}#sk-container-id-3 div.sk-estimator:hover label.sk-toggleable__label-arrow:before {color: black;}#sk-container-id-3 div.sk-toggleable__content {max-height: 0;max-width: 0;overflow: hidden;text-align: left;background-color: #f0f8ff;}#sk-container-id-3 div.sk-toggleable__content pre {margin: 0.2em;color: black;border-radius: 0.25em;background-color: #f0f8ff;}#sk-container-id-3 input.sk-toggleable__control:checked~div.sk-toggleable__content {max-height: 200px;max-width: 100%;overflow: auto;}#sk-container-id-3 input.sk-toggleable__control:checked~label.sk-toggleable__label-arrow:before {content: \"▾\";}#sk-container-id-3 div.sk-estimator input.sk-toggleable__control:checked~label.sk-toggleable__label {background-color: #d4ebff;}#sk-container-id-3 div.sk-label input.sk-toggleable__control:checked~label.sk-toggleable__label {background-color: #d4ebff;}#sk-container-id-3 input.sk-hidden--visually {border: 0;clip: rect(1px 1px 1px 1px);clip: rect(1px, 1px, 1px, 1px);height: 1px;margin: -1px;overflow: hidden;padding: 0;position: absolute;width: 1px;}#sk-container-id-3 div.sk-estimator {font-family: monospace;background-color: #f0f8ff;border: 1px dotted black;border-radius: 0.25em;box-sizing: border-box;margin-bottom: 0.5em;}#sk-container-id-3 div.sk-estimator:hover {background-color: #d4ebff;}#sk-container-id-3 div.sk-parallel-item::after {content: \"\";width: 100%;border-bottom: 1px solid gray;flex-grow: 1;}#sk-container-id-3 div.sk-label:hover label.sk-toggleable__label {background-color: #d4ebff;}#sk-container-id-3 div.sk-serial::before {content: \"\";position: absolute;border-left: 1px solid gray;box-sizing: border-box;top: 0;bottom: 0;left: 50%;z-index: 0;}#sk-container-id-3 div.sk-serial {display: flex;flex-direction: column;align-items: center;background-color: white;padding-right: 0.2em;padding-left: 0.2em;position: relative;}#sk-container-id-3 div.sk-item {position: relative;z-index: 1;}#sk-container-id-3 div.sk-parallel {display: flex;align-items: stretch;justify-content: center;background-color: white;position: relative;}#sk-container-id-3 div.sk-item::before, #sk-container-id-3 div.sk-parallel-item::before {content: \"\";position: absolute;border-left: 1px solid gray;box-sizing: border-box;top: 0;bottom: 0;left: 50%;z-index: -1;}#sk-container-id-3 div.sk-parallel-item {display: flex;flex-direction: column;z-index: 1;position: relative;background-color: white;}#sk-container-id-3 div.sk-parallel-item:first-child::after {align-self: flex-end;width: 50%;}#sk-container-id-3 div.sk-parallel-item:last-child::after {align-self: flex-start;width: 50%;}#sk-container-id-3 div.sk-parallel-item:only-child::after {width: 0;}#sk-container-id-3 div.sk-dashed-wrapped {border: 1px dashed gray;margin: 0 0.4em 0.5em 0.4em;box-sizing: border-box;padding-bottom: 0.4em;background-color: white;}#sk-container-id-3 div.sk-label label {font-family: monospace;font-weight: bold;display: inline-block;line-height: 1.2em;}#sk-container-id-3 div.sk-label-container {text-align: center;}#sk-container-id-3 div.sk-container {/* jupyter's `normalize.less` sets `[hidden] { display: none; }` but bootstrap.min.css set `[hidden] { display: none !important; }` so we also need the `!important` here to be able to override the default hidden behavior on the sphinx rendered scikit-learn.org. See: https://github.com/scikit-learn/scikit-learn/issues/21755 */display: inline-block !important;position: relative;}#sk-container-id-3 div.sk-text-repr-fallback {display: none;}</style><div id=\"sk-container-id-3\" class=\"sk-top-container\"><div class=\"sk-text-repr-fallback\"><pre>GaussianNB()</pre><b>In a Jupyter environment, please rerun this cell to show the HTML representation or trust the notebook. <br />On GitHub, the HTML representation is unable to render, please try loading this page with nbviewer.org.</b></div><div class=\"sk-container\" hidden><div class=\"sk-item\"><div class=\"sk-estimator sk-toggleable\"><input class=\"sk-toggleable__control sk-hidden--visually\" id=\"sk-estimator-id-3\" type=\"checkbox\" checked><label for=\"sk-estimator-id-3\" class=\"sk-toggleable__label sk-toggleable__label-arrow\">GaussianNB</label><div class=\"sk-toggleable__content\"><pre>GaussianNB()</pre></div></div></div></div></div>"
            ]
          },
          "metadata": {},
          "execution_count": 176
        }
      ]
    },
    {
      "cell_type": "code",
      "source": [
        "gb_preds_train=gb.predict(x_train)\n",
        "gb_preds_test=gb.predict(x_test)\n",
        "acc_report(y_train,gb_preds_train)\n",
        "acc_report(y_test,gb_preds_test)"
      ],
      "metadata": {
        "colab": {
          "base_uri": "https://localhost:8080/"
        },
        "id": "WOw1qV0BLs1p",
        "outputId": "0d806fae-aa35-4ece-9350-836b57a87154"
      },
      "execution_count": null,
      "outputs": [
        {
          "output_type": "stream",
          "name": "stdout",
          "text": [
            "accuracy:: 0.63\n",
            "[[116  40   6]\n",
            " [ 60 165  52]\n",
            " [ 17  62 122]]\n",
            "              precision    recall  f1-score   support\n",
            "\n",
            "           1       0.60      0.72      0.65       162\n",
            "           2       0.62      0.60      0.61       277\n",
            "           3       0.68      0.61      0.64       201\n",
            "\n",
            "    accuracy                           0.63       640\n",
            "   macro avg       0.63      0.64      0.63       640\n",
            "weighted avg       0.63      0.63      0.63       640\n",
            "\n",
            "accuracy:: 0.58\n",
            "[[20 11  0]\n",
            " [16 46 14]\n",
            " [ 5 21 27]]\n",
            "              precision    recall  f1-score   support\n",
            "\n",
            "           1       0.49      0.65      0.56        31\n",
            "           2       0.59      0.61      0.60        76\n",
            "           3       0.66      0.51      0.57        53\n",
            "\n",
            "    accuracy                           0.58       160\n",
            "   macro avg       0.58      0.59      0.58       160\n",
            "weighted avg       0.59      0.58      0.58       160\n",
            "\n"
          ]
        }
      ]
    },
    {
      "cell_type": "markdown",
      "source": [
        "#After SMOTE"
      ],
      "metadata": {
        "id": "Hr2YUguPMTlH"
      }
    },
    {
      "cell_type": "code",
      "source": [
        "from imblearn.over_sampling import SMOTE\n",
        "\n",
        "smp=SMOTE()\n",
        "x_smote,y_smote=smp.fit_resample(x,y)\n"
      ],
      "metadata": {
        "id": "r13JkfvyL1mw"
      },
      "execution_count": null,
      "outputs": []
    },
    {
      "cell_type": "code",
      "source": [
        "x_sm_train,x_sm_test,y_sm_train,y_sm_test=train_test_split(x_smote,y_smote,test_size=0.2,random_state=162)\n"
      ],
      "metadata": {
        "id": "LTH5fCtPR0Gd"
      },
      "execution_count": null,
      "outputs": []
    },
    {
      "cell_type": "markdown",
      "source": [
        "#Logistic regression"
      ],
      "metadata": {
        "id": "zMu5TC6uOX7O"
      }
    },
    {
      "cell_type": "code",
      "source": [
        "lr.fit(x_sm_train,y_sm_train)\n",
        "#Training the model\n",
        "preds_ytrain_lr=lr.predict(x_sm_train)\n",
        "preds_ytest_lr=lr.predict(x_sm_test)\n",
        "\n",
        "acc_report(y_sm_train,preds_ytrain_lr)\n",
        "acc_report(y_sm_test,preds_ytest_lr)"
      ],
      "metadata": {
        "colab": {
          "base_uri": "https://localhost:8080/"
        },
        "id": "S8NnAiNsR27D",
        "outputId": "6a1d938d-b759-4669-d832-612b59ecbd03"
      },
      "execution_count": null,
      "outputs": [
        {
          "output_type": "stream",
          "name": "stdout",
          "text": [
            "accuracy:: 0.66\n",
            "[[210  58   6]\n",
            " [ 67 139  77]\n",
            " [  5  74 211]]\n",
            "              precision    recall  f1-score   support\n",
            "\n",
            "           1       0.74      0.77      0.76       274\n",
            "           2       0.51      0.49      0.50       283\n",
            "           3       0.72      0.73      0.72       290\n",
            "\n",
            "    accuracy                           0.66       847\n",
            "   macro avg       0.66      0.66      0.66       847\n",
            "weighted avg       0.66      0.66      0.66       847\n",
            "\n",
            "accuracy:: 0.67\n",
            "[[57 22  0]\n",
            " [13 38 19]\n",
            " [ 0 17 46]]\n",
            "              precision    recall  f1-score   support\n",
            "\n",
            "           1       0.81      0.72      0.77        79\n",
            "           2       0.49      0.54      0.52        70\n",
            "           3       0.71      0.73      0.72        63\n",
            "\n",
            "    accuracy                           0.67       212\n",
            "   macro avg       0.67      0.66      0.67       212\n",
            "weighted avg       0.68      0.67      0.67       212\n",
            "\n"
          ]
        },
        {
          "output_type": "stream",
          "name": "stderr",
          "text": [
            "/usr/local/lib/python3.10/dist-packages/sklearn/linear_model/_logistic.py:458: ConvergenceWarning: lbfgs failed to converge (status=1):\n",
            "STOP: TOTAL NO. of ITERATIONS REACHED LIMIT.\n",
            "\n",
            "Increase the number of iterations (max_iter) or scale the data as shown in:\n",
            "    https://scikit-learn.org/stable/modules/preprocessing.html\n",
            "Please also refer to the documentation for alternative solver options:\n",
            "    https://scikit-learn.org/stable/modules/linear_model.html#logistic-regression\n",
            "  n_iter_i = _check_optimize_result(\n"
          ]
        }
      ]
    },
    {
      "cell_type": "code",
      "source": [],
      "metadata": {
        "colab": {
          "base_uri": "https://localhost:8080/"
        },
        "id": "SuiJqlpuTB9D",
        "outputId": "f3fcf5a8-b444-431f-c3a5-71245b8ac84a"
      },
      "execution_count": null,
      "outputs": [
        {
          "output_type": "stream",
          "name": "stdout",
          "text": [
            "accuracy:: 0.67\n",
            "[[52 16  2]\n",
            " [24 46 12]\n",
            " [ 2 14 44]]\n",
            "              precision    recall  f1-score   support\n",
            "\n",
            "           1       0.67      0.74      0.70        70\n",
            "           2       0.61      0.56      0.58        82\n",
            "           3       0.76      0.73      0.75        60\n",
            "\n",
            "    accuracy                           0.67       212\n",
            "   macro avg       0.68      0.68      0.68       212\n",
            "weighted avg       0.67      0.67      0.67       212\n",
            "\n"
          ]
        }
      ]
    },
    {
      "cell_type": "markdown",
      "source": [
        "#decision Tree classifier"
      ],
      "metadata": {
        "id": "aY11aXvNOcGb"
      }
    },
    {
      "cell_type": "code",
      "source": [
        "dtc.fit(x_sm_train,y_sm_train)\n",
        "preds_ytrain_dtc=dtc.predict(x_sm_train)\n",
        "preds_ytest_dtc=dtc.predict(x_sm_test)\n",
        "\n",
        "acc_report(y_sm_train,preds_ytrain_dtc)\n",
        "acc_report(y_sm_test,preds_ytest_dtc)"
      ],
      "metadata": {
        "colab": {
          "base_uri": "https://localhost:8080/"
        },
        "id": "PdLGPc44TFfd",
        "outputId": "cb47cf75-1f78-4958-e204-75c9fc41775d"
      },
      "execution_count": null,
      "outputs": [
        {
          "output_type": "stream",
          "name": "stdout",
          "text": [
            "accuracy:: 0.62\n",
            "[[165  78  31]\n",
            " [ 47 127 109]\n",
            " [  2  55 233]]\n",
            "              precision    recall  f1-score   support\n",
            "\n",
            "           1       0.77      0.60      0.68       274\n",
            "           2       0.49      0.45      0.47       283\n",
            "           3       0.62      0.80      0.70       290\n",
            "\n",
            "    accuracy                           0.62       847\n",
            "   macro avg       0.63      0.62      0.62       847\n",
            "weighted avg       0.63      0.62      0.62       847\n",
            "\n",
            "accuracy:: 0.58\n",
            "[[44 28  7]\n",
            " [13 29 28]\n",
            " [ 0 12 51]]\n",
            "              precision    recall  f1-score   support\n",
            "\n",
            "           1       0.77      0.56      0.65        79\n",
            "           2       0.42      0.41      0.42        70\n",
            "           3       0.59      0.81      0.68        63\n",
            "\n",
            "    accuracy                           0.58       212\n",
            "   macro avg       0.60      0.59      0.58       212\n",
            "weighted avg       0.60      0.58      0.58       212\n",
            "\n"
          ]
        }
      ]
    },
    {
      "cell_type": "markdown",
      "source": [
        "#random forest classifier"
      ],
      "metadata": {
        "id": "qmUnk0NwOfno"
      }
    },
    {
      "cell_type": "code",
      "source": [
        "rf= RandomForestClassifier(n_estimators=200,max_depth=40 ,verbose=1)\n",
        "rf.fit(x_sm_train,y_sm_train)\n",
        "preds_ytrain_rf=rf.predict(x_sm_train)\n",
        "preds_ytest_rf=rf.predict(x_sm_test)\n",
        "\n",
        "acc_report(y_sm_train,preds_ytrain_rf)\n",
        "acc_report(y_sm_test,preds_ytest_rf)"
      ],
      "metadata": {
        "colab": {
          "base_uri": "https://localhost:8080/"
        },
        "id": "b9_BttwtTLUA",
        "outputId": "f0aa8f3d-86d8-4c19-b009-2a9c59b5d2a7"
      },
      "execution_count": null,
      "outputs": [
        {
          "output_type": "stream",
          "name": "stderr",
          "text": [
            "[Parallel(n_jobs=1)]: Using backend SequentialBackend with 1 concurrent workers.\n"
          ]
        },
        {
          "output_type": "stream",
          "name": "stdout",
          "text": [
            "accuracy:: 1.0\n",
            "[[274   0   0]\n",
            " [  0 283   0]\n",
            " [  0   0 290]]\n",
            "              precision    recall  f1-score   support\n",
            "\n",
            "           1       1.00      1.00      1.00       274\n",
            "           2       1.00      1.00      1.00       283\n",
            "           3       1.00      1.00      1.00       290\n",
            "\n",
            "    accuracy                           1.00       847\n",
            "   macro avg       1.00      1.00      1.00       847\n",
            "weighted avg       1.00      1.00      1.00       847\n",
            "\n",
            "accuracy:: 0.79\n",
            "[[70  8  1]\n",
            " [ 7 46 17]\n",
            " [ 1 11 51]]\n",
            "              precision    recall  f1-score   support\n",
            "\n",
            "           1       0.90      0.89      0.89        79\n",
            "           2       0.71      0.66      0.68        70\n",
            "           3       0.74      0.81      0.77        63\n",
            "\n",
            "    accuracy                           0.79       212\n",
            "   macro avg       0.78      0.78      0.78       212\n",
            "weighted avg       0.79      0.79      0.79       212\n",
            "\n"
          ]
        },
        {
          "output_type": "stream",
          "name": "stderr",
          "text": [
            "[Parallel(n_jobs=1)]: Done 200 out of 200 | elapsed:    0.4s finished\n",
            "[Parallel(n_jobs=1)]: Using backend SequentialBackend with 1 concurrent workers.\n",
            "[Parallel(n_jobs=1)]: Done 200 out of 200 | elapsed:    0.1s finished\n",
            "[Parallel(n_jobs=1)]: Using backend SequentialBackend with 1 concurrent workers.\n",
            "[Parallel(n_jobs=1)]: Done 200 out of 200 | elapsed:    0.0s finished\n"
          ]
        }
      ]
    },
    {
      "cell_type": "markdown",
      "source": [
        "#gradient Boosting"
      ],
      "metadata": {
        "id": "gTEc7AVdOlHb"
      }
    },
    {
      "cell_type": "code",
      "source": [
        "gb.fit(x_sm_train,y_sm_train)\n",
        "preds_ytrain_gb=gb.predict(x_sm_train)\n",
        "preds_ytest_gb=gb.predict(x_sm_test)\n",
        "\n",
        "acc_report(y_sm_train,preds_ytrain_gb)\n",
        "acc_report(y_sm_test,preds_ytest_gb)"
      ],
      "metadata": {
        "colab": {
          "base_uri": "https://localhost:8080/"
        },
        "id": "dVMQpS4vTMEX",
        "outputId": "237ce46a-a052-437c-e0ad-99214881580f"
      },
      "execution_count": null,
      "outputs": [
        {
          "output_type": "stream",
          "name": "stdout",
          "text": [
            "accuracy:: 0.62\n",
            "[[230  27  12]\n",
            " [117  97  77]\n",
            " [ 36  56 195]]\n",
            "              precision    recall  f1-score   support\n",
            "\n",
            "           1       0.60      0.86      0.71       269\n",
            "           2       0.54      0.33      0.41       291\n",
            "           3       0.69      0.68      0.68       287\n",
            "\n",
            "    accuracy                           0.62       847\n",
            "   macro avg       0.61      0.62      0.60       847\n",
            "weighted avg       0.61      0.62      0.60       847\n",
            "\n",
            "accuracy:: 0.67\n",
            "[[75  7  2]\n",
            " [27 21 14]\n",
            " [ 9 12 45]]\n",
            "              precision    recall  f1-score   support\n",
            "\n",
            "           1       0.68      0.89      0.77        84\n",
            "           2       0.53      0.34      0.41        62\n",
            "           3       0.74      0.68      0.71        66\n",
            "\n",
            "    accuracy                           0.67       212\n",
            "   macro avg       0.65      0.64      0.63       212\n",
            "weighted avg       0.65      0.67      0.65       212\n",
            "\n"
          ]
        }
      ]
    },
    {
      "cell_type": "markdown",
      "source": [
        "#KNN"
      ],
      "metadata": {
        "id": "iAu4OKisO3ox"
      }
    },
    {
      "cell_type": "code",
      "source": [
        "knn.fit(x_sm_train,y_sm_train)\n",
        "preds_ytrain_knn=knn.predict(x_sm_train)\n",
        "preds_ytest_knn=knn.predict(x_sm_test)\n",
        "\n",
        "acc_report(y_sm_train,preds_ytrain_knn)\n",
        "acc_report(y_sm_test,preds_ytest_knn)"
      ],
      "metadata": {
        "colab": {
          "base_uri": "https://localhost:8080/"
        },
        "id": "k_k2eIb-TQVd",
        "outputId": "3faef471-e8f2-47e5-fcf1-c16a38d1b4a9"
      },
      "execution_count": null,
      "outputs": [
        {
          "output_type": "stream",
          "name": "stdout",
          "text": [
            "accuracy:: 0.64\n",
            "[[201  42  26]\n",
            " [ 61 131  99]\n",
            " [ 16  57 214]]\n",
            "              precision    recall  f1-score   support\n",
            "\n",
            "           1       0.72      0.75      0.73       269\n",
            "           2       0.57      0.45      0.50       291\n",
            "           3       0.63      0.75      0.68       287\n",
            "\n",
            "    accuracy                           0.64       847\n",
            "   macro avg       0.64      0.65      0.64       847\n",
            "weighted avg       0.64      0.64      0.64       847\n",
            "\n",
            "accuracy:: 0.68\n",
            "[[65 12  7]\n",
            " [18 24 20]\n",
            " [ 3  8 55]]\n",
            "              precision    recall  f1-score   support\n",
            "\n",
            "           1       0.76      0.77      0.76        84\n",
            "           2       0.55      0.39      0.45        62\n",
            "           3       0.67      0.83      0.74        66\n",
            "\n",
            "    accuracy                           0.68       212\n",
            "   macro avg       0.66      0.66      0.65       212\n",
            "weighted avg       0.67      0.68      0.67       212\n",
            "\n"
          ]
        }
      ]
    },
    {
      "cell_type": "markdown",
      "source": [
        "#Ada boost classifier"
      ],
      "metadata": {
        "id": "i1Uc7xzaO63S"
      }
    },
    {
      "cell_type": "code",
      "source": [
        "ada.fit(x_sm_train,y_sm_train)\n",
        "preds_ytrain_ada=ada.predict(x_sm_train)\n",
        "preds_ytest_ada=ada.predict(x_sm_test)\n",
        "\n",
        "acc_report(y_sm_train,preds_ytrain_ada)\n",
        "acc_report(y_sm_test,preds_ytest_ada)"
      ],
      "metadata": {
        "colab": {
          "base_uri": "https://localhost:8080/"
        },
        "id": "eUXKkN02TUXc",
        "outputId": "75d74868-8407-42d5-c840-cbcad5a0751c"
      },
      "execution_count": null,
      "outputs": [
        {
          "output_type": "stream",
          "name": "stdout",
          "text": [
            "accuracy:: 0.7\n",
            "[[190  75   4]\n",
            " [ 40 180  71]\n",
            " [  4  56 227]]\n",
            "              precision    recall  f1-score   support\n",
            "\n",
            "           1       0.81      0.71      0.76       269\n",
            "           2       0.58      0.62      0.60       291\n",
            "           3       0.75      0.79      0.77       287\n",
            "\n",
            "    accuracy                           0.70       847\n",
            "   macro avg       0.71      0.71      0.71       847\n",
            "weighted avg       0.71      0.70      0.71       847\n",
            "\n",
            "accuracy:: 0.66\n",
            "[[51 33  0]\n",
            " [ 7 43 12]\n",
            " [ 1 19 46]]\n",
            "              precision    recall  f1-score   support\n",
            "\n",
            "           1       0.86      0.61      0.71        84\n",
            "           2       0.45      0.69      0.55        62\n",
            "           3       0.79      0.70      0.74        66\n",
            "\n",
            "    accuracy                           0.66       212\n",
            "   macro avg       0.70      0.67      0.67       212\n",
            "weighted avg       0.72      0.66      0.67       212\n",
            "\n"
          ]
        }
      ]
    },
    {
      "cell_type": "markdown",
      "source": [
        "#Support Vector Machine"
      ],
      "metadata": {
        "id": "y9ZPXXecO9_S"
      }
    },
    {
      "cell_type": "code",
      "source": [
        "svc.fit(x_sm_train,y_sm_train)\n",
        "preds_ytrain_svc=svc.predict(x_sm_train)\n",
        "preds_ytest_svc=svc.predict(x_sm_test)\n",
        "\n",
        "acc_report(y_sm_train,preds_ytrain_svc)\n",
        "acc_report(y_sm_test,preds_ytest_svc)"
      ],
      "metadata": {
        "colab": {
          "base_uri": "https://localhost:8080/"
        },
        "id": "1vn7GlcmTYBG",
        "outputId": "325ba686-ab1b-49f9-bb35-b594f2ee6091"
      },
      "execution_count": null,
      "outputs": [
        {
          "output_type": "stream",
          "name": "stdout",
          "text": [
            "accuracy:: 0.59\n",
            "[[137  97  35]\n",
            " [ 34 113 144]\n",
            " [  0  39 248]]\n",
            "              precision    recall  f1-score   support\n",
            "\n",
            "           1       0.80      0.51      0.62       269\n",
            "           2       0.45      0.39      0.42       291\n",
            "           3       0.58      0.86      0.69       287\n",
            "\n",
            "    accuracy                           0.59       847\n",
            "   macro avg       0.61      0.59      0.58       847\n",
            "weighted avg       0.61      0.59      0.58       847\n",
            "\n",
            "accuracy:: 0.63\n",
            "[[49 24 11]\n",
            " [ 7 24 31]\n",
            " [ 1  4 61]]\n",
            "              precision    recall  f1-score   support\n",
            "\n",
            "           1       0.86      0.58      0.70        84\n",
            "           2       0.46      0.39      0.42        62\n",
            "           3       0.59      0.92      0.72        66\n",
            "\n",
            "    accuracy                           0.63       212\n",
            "   macro avg       0.64      0.63      0.61       212\n",
            "weighted avg       0.66      0.63      0.62       212\n",
            "\n"
          ]
        }
      ]
    },
    {
      "cell_type": "markdown",
      "source": [
        "#Gaussian NB"
      ],
      "metadata": {
        "id": "q1xio-D9PHV8"
      }
    },
    {
      "cell_type": "code",
      "source": [
        "gb=GaussianNB()\n",
        "gb.fit(x_sm_train,y_sm_train)\n",
        "preds_ytrain_gb=gb.predict(x_sm_train)\n",
        "preds_ytest_gb=gb.predict(x_sm_test)\n",
        "\n",
        "acc_report(y_sm_train,preds_ytrain_gb)\n",
        "acc_report(y_sm_test,preds_ytest_gb)"
      ],
      "metadata": {
        "colab": {
          "base_uri": "https://localhost:8080/"
        },
        "id": "dj8O8_WlTfhx",
        "outputId": "7d2f29e3-f4f1-4397-ab1c-fcdd63d969a3"
      },
      "execution_count": null,
      "outputs": [
        {
          "output_type": "stream",
          "name": "stdout",
          "text": [
            "accuracy:: 0.62\n",
            "[[230  27  12]\n",
            " [117  97  77]\n",
            " [ 36  56 195]]\n",
            "              precision    recall  f1-score   support\n",
            "\n",
            "           1       0.60      0.86      0.71       269\n",
            "           2       0.54      0.33      0.41       291\n",
            "           3       0.69      0.68      0.68       287\n",
            "\n",
            "    accuracy                           0.62       847\n",
            "   macro avg       0.61      0.62      0.60       847\n",
            "weighted avg       0.61      0.62      0.60       847\n",
            "\n",
            "accuracy:: 0.67\n",
            "[[75  7  2]\n",
            " [27 21 14]\n",
            " [ 9 12 45]]\n",
            "              precision    recall  f1-score   support\n",
            "\n",
            "           1       0.68      0.89      0.77        84\n",
            "           2       0.53      0.34      0.41        62\n",
            "           3       0.74      0.68      0.71        66\n",
            "\n",
            "    accuracy                           0.67       212\n",
            "   macro avg       0.65      0.64      0.63       212\n",
            "weighted avg       0.65      0.67      0.65       212\n",
            "\n"
          ]
        }
      ]
    },
    {
      "cell_type": "markdown",
      "source": [
        "#handling TEST data"
      ],
      "metadata": {
        "id": "6-757-mRjxRJ"
      }
    },
    {
      "cell_type": "code",
      "source": [
        "test.info()"
      ],
      "metadata": {
        "colab": {
          "base_uri": "https://localhost:8080/"
        },
        "id": "ZPrPgMdhdSXr",
        "outputId": "814fd969-292f-43f4-f2c5-bc7b0fdbe5c4"
      },
      "execution_count": null,
      "outputs": [
        {
          "output_type": "stream",
          "name": "stdout",
          "text": [
            "<class 'pandas.core.frame.DataFrame'>\n",
            "RangeIndex: 200 entries, 0 to 199\n",
            "Data columns (total 20 columns):\n",
            " #   Column            Non-Null Count  Dtype  \n",
            "---  ------            --------------  -----  \n",
            " 0   serial number     200 non-null    int64  \n",
            " 1   account_info      200 non-null    object \n",
            " 2   duration_month    200 non-null    int64  \n",
            " 3   credit_history    200 non-null    object \n",
            " 4   purpose           200 non-null    object \n",
            " 5   savings_account   200 non-null    object \n",
            " 6   employment_st     195 non-null    object \n",
            " 7   poi               195 non-null    float64\n",
            " 8   personal_status   200 non-null    object \n",
            " 9   gurantors         200 non-null    object \n",
            " 10  resident_since    200 non-null    int64  \n",
            " 11  property_type     200 non-null    object \n",
            " 12  age               198 non-null    float64\n",
            " 13  installment_type  200 non-null    object \n",
            " 14  housing_type      192 non-null    object \n",
            " 15  credits_no        200 non-null    int64  \n",
            " 16  job_type          200 non-null    object \n",
            " 17  liables           200 non-null    int64  \n",
            " 18  telephone         200 non-null    object \n",
            " 19  foreigner         200 non-null    object \n",
            "dtypes: float64(2), int64(5), object(13)\n",
            "memory usage: 31.4+ KB\n"
          ]
        }
      ]
    },
    {
      "cell_type": "code",
      "source": [
        "data_prep(test)"
      ],
      "metadata": {
        "id": "NO4bzRzQdr4R"
      },
      "execution_count": null,
      "outputs": []
    },
    {
      "cell_type": "code",
      "source": [
        "encode(test)"
      ],
      "metadata": {
        "colab": {
          "base_uri": "https://localhost:8080/",
          "height": 505
        },
        "id": "b1T180dYdos5",
        "outputId": "28bc9dab-2728-4df2-bd99-98b907aa40b6"
      },
      "execution_count": null,
      "outputs": [
        {
          "output_type": "execute_result",
          "data": {
            "text/plain": [
              "     serial number  account_info  duration_month  credit_history  purpose  \\\n",
              "0                1             3              24               4        7   \n",
              "1                2             1              18               4        4   \n",
              "2                3             0              20               4        3   \n",
              "3                4             3              12               4        4   \n",
              "4                5             1              12               2        0   \n",
              "..             ...           ...             ...             ...      ...   \n",
              "195            196             3              12               2        3   \n",
              "196            197             0              30               2        1   \n",
              "197            198             3              12               2        4   \n",
              "198            199             0              45               2        4   \n",
              "199            200             1              45               4        1   \n",
              "\n",
              "     savings_account  employment_st  poi  personal_status  gurantors  \\\n",
              "0                  0              4  4.0                2          0   \n",
              "1                  0              4  3.0                1          2   \n",
              "2                  0              4  1.0                1          0   \n",
              "3                  4              4  4.0                2          0   \n",
              "4                  4              0  1.0                1          0   \n",
              "..               ...            ...  ...              ...        ...   \n",
              "195                0              3  3.0                1          0   \n",
              "196                0              2  4.0                0          0   \n",
              "197                0              4  4.0                2          0   \n",
              "198                0              2  4.0                2          0   \n",
              "199                1              0  3.0                2          0   \n",
              "\n",
              "     resident_since  property_type   age  installment_type  housing_type  \\\n",
              "0                 4              3  54.0                 2             2   \n",
              "1                 4              0  48.0                 0             0   \n",
              "2                 4              1  24.0                 2             1   \n",
              "3                 4              2  35.0                 2             1   \n",
              "4                 2              0  24.0                 2             0   \n",
              "..              ...            ...   ...               ...           ...   \n",
              "195               4              0  31.0                 2             1   \n",
              "196               4              1  40.0                 2             1   \n",
              "197               4              2  38.0                 2             1   \n",
              "198               4              3  23.0                 2             2   \n",
              "199               4              2  27.0                 2             1   \n",
              "\n",
              "     credits_no  job_type  liables  telephone  foreigner  \n",
              "0             2         2        2          0          0  \n",
              "1             2         1        1          1          0  \n",
              "2             2         2        1          0          0  \n",
              "3             2         2        1          0          0  \n",
              "4             1         0        1          0          0  \n",
              "..          ...       ...      ...        ...        ...  \n",
              "195           1         1        1          0          0  \n",
              "196           1         3        1          1          0  \n",
              "197           1         2        1          0          0  \n",
              "198           1         2        1          1          0  \n",
              "199           1         2        1          0          0  \n",
              "\n",
              "[200 rows x 20 columns]"
            ],
            "text/html": [
              "\n",
              "  <div id=\"df-5e0972a0-bb1e-433d-a202-f40a00cb1927\">\n",
              "    <div class=\"colab-df-container\">\n",
              "      <div>\n",
              "<style scoped>\n",
              "    .dataframe tbody tr th:only-of-type {\n",
              "        vertical-align: middle;\n",
              "    }\n",
              "\n",
              "    .dataframe tbody tr th {\n",
              "        vertical-align: top;\n",
              "    }\n",
              "\n",
              "    .dataframe thead th {\n",
              "        text-align: right;\n",
              "    }\n",
              "</style>\n",
              "<table border=\"1\" class=\"dataframe\">\n",
              "  <thead>\n",
              "    <tr style=\"text-align: right;\">\n",
              "      <th></th>\n",
              "      <th>serial number</th>\n",
              "      <th>account_info</th>\n",
              "      <th>duration_month</th>\n",
              "      <th>credit_history</th>\n",
              "      <th>purpose</th>\n",
              "      <th>savings_account</th>\n",
              "      <th>employment_st</th>\n",
              "      <th>poi</th>\n",
              "      <th>personal_status</th>\n",
              "      <th>gurantors</th>\n",
              "      <th>resident_since</th>\n",
              "      <th>property_type</th>\n",
              "      <th>age</th>\n",
              "      <th>installment_type</th>\n",
              "      <th>housing_type</th>\n",
              "      <th>credits_no</th>\n",
              "      <th>job_type</th>\n",
              "      <th>liables</th>\n",
              "      <th>telephone</th>\n",
              "      <th>foreigner</th>\n",
              "    </tr>\n",
              "  </thead>\n",
              "  <tbody>\n",
              "    <tr>\n",
              "      <th>0</th>\n",
              "      <td>1</td>\n",
              "      <td>3</td>\n",
              "      <td>24</td>\n",
              "      <td>4</td>\n",
              "      <td>7</td>\n",
              "      <td>0</td>\n",
              "      <td>4</td>\n",
              "      <td>4.0</td>\n",
              "      <td>2</td>\n",
              "      <td>0</td>\n",
              "      <td>4</td>\n",
              "      <td>3</td>\n",
              "      <td>54.0</td>\n",
              "      <td>2</td>\n",
              "      <td>2</td>\n",
              "      <td>2</td>\n",
              "      <td>2</td>\n",
              "      <td>2</td>\n",
              "      <td>0</td>\n",
              "      <td>0</td>\n",
              "    </tr>\n",
              "    <tr>\n",
              "      <th>1</th>\n",
              "      <td>2</td>\n",
              "      <td>1</td>\n",
              "      <td>18</td>\n",
              "      <td>4</td>\n",
              "      <td>4</td>\n",
              "      <td>0</td>\n",
              "      <td>4</td>\n",
              "      <td>3.0</td>\n",
              "      <td>1</td>\n",
              "      <td>2</td>\n",
              "      <td>4</td>\n",
              "      <td>0</td>\n",
              "      <td>48.0</td>\n",
              "      <td>0</td>\n",
              "      <td>0</td>\n",
              "      <td>2</td>\n",
              "      <td>1</td>\n",
              "      <td>1</td>\n",
              "      <td>1</td>\n",
              "      <td>0</td>\n",
              "    </tr>\n",
              "    <tr>\n",
              "      <th>2</th>\n",
              "      <td>3</td>\n",
              "      <td>0</td>\n",
              "      <td>20</td>\n",
              "      <td>4</td>\n",
              "      <td>3</td>\n",
              "      <td>0</td>\n",
              "      <td>4</td>\n",
              "      <td>1.0</td>\n",
              "      <td>1</td>\n",
              "      <td>0</td>\n",
              "      <td>4</td>\n",
              "      <td>1</td>\n",
              "      <td>24.0</td>\n",
              "      <td>2</td>\n",
              "      <td>1</td>\n",
              "      <td>2</td>\n",
              "      <td>2</td>\n",
              "      <td>1</td>\n",
              "      <td>0</td>\n",
              "      <td>0</td>\n",
              "    </tr>\n",
              "    <tr>\n",
              "      <th>3</th>\n",
              "      <td>4</td>\n",
              "      <td>3</td>\n",
              "      <td>12</td>\n",
              "      <td>4</td>\n",
              "      <td>4</td>\n",
              "      <td>4</td>\n",
              "      <td>4</td>\n",
              "      <td>4.0</td>\n",
              "      <td>2</td>\n",
              "      <td>0</td>\n",
              "      <td>4</td>\n",
              "      <td>2</td>\n",
              "      <td>35.0</td>\n",
              "      <td>2</td>\n",
              "      <td>1</td>\n",
              "      <td>2</td>\n",
              "      <td>2</td>\n",
              "      <td>1</td>\n",
              "      <td>0</td>\n",
              "      <td>0</td>\n",
              "    </tr>\n",
              "    <tr>\n",
              "      <th>4</th>\n",
              "      <td>5</td>\n",
              "      <td>1</td>\n",
              "      <td>12</td>\n",
              "      <td>2</td>\n",
              "      <td>0</td>\n",
              "      <td>4</td>\n",
              "      <td>0</td>\n",
              "      <td>1.0</td>\n",
              "      <td>1</td>\n",
              "      <td>0</td>\n",
              "      <td>2</td>\n",
              "      <td>0</td>\n",
              "      <td>24.0</td>\n",
              "      <td>2</td>\n",
              "      <td>0</td>\n",
              "      <td>1</td>\n",
              "      <td>0</td>\n",
              "      <td>1</td>\n",
              "      <td>0</td>\n",
              "      <td>0</td>\n",
              "    </tr>\n",
              "    <tr>\n",
              "      <th>...</th>\n",
              "      <td>...</td>\n",
              "      <td>...</td>\n",
              "      <td>...</td>\n",
              "      <td>...</td>\n",
              "      <td>...</td>\n",
              "      <td>...</td>\n",
              "      <td>...</td>\n",
              "      <td>...</td>\n",
              "      <td>...</td>\n",
              "      <td>...</td>\n",
              "      <td>...</td>\n",
              "      <td>...</td>\n",
              "      <td>...</td>\n",
              "      <td>...</td>\n",
              "      <td>...</td>\n",
              "      <td>...</td>\n",
              "      <td>...</td>\n",
              "      <td>...</td>\n",
              "      <td>...</td>\n",
              "      <td>...</td>\n",
              "    </tr>\n",
              "    <tr>\n",
              "      <th>195</th>\n",
              "      <td>196</td>\n",
              "      <td>3</td>\n",
              "      <td>12</td>\n",
              "      <td>2</td>\n",
              "      <td>3</td>\n",
              "      <td>0</td>\n",
              "      <td>3</td>\n",
              "      <td>3.0</td>\n",
              "      <td>1</td>\n",
              "      <td>0</td>\n",
              "      <td>4</td>\n",
              "      <td>0</td>\n",
              "      <td>31.0</td>\n",
              "      <td>2</td>\n",
              "      <td>1</td>\n",
              "      <td>1</td>\n",
              "      <td>1</td>\n",
              "      <td>1</td>\n",
              "      <td>0</td>\n",
              "      <td>0</td>\n",
              "    </tr>\n",
              "    <tr>\n",
              "      <th>196</th>\n",
              "      <td>197</td>\n",
              "      <td>0</td>\n",
              "      <td>30</td>\n",
              "      <td>2</td>\n",
              "      <td>1</td>\n",
              "      <td>0</td>\n",
              "      <td>2</td>\n",
              "      <td>4.0</td>\n",
              "      <td>0</td>\n",
              "      <td>0</td>\n",
              "      <td>4</td>\n",
              "      <td>1</td>\n",
              "      <td>40.0</td>\n",
              "      <td>2</td>\n",
              "      <td>1</td>\n",
              "      <td>1</td>\n",
              "      <td>3</td>\n",
              "      <td>1</td>\n",
              "      <td>1</td>\n",
              "      <td>0</td>\n",
              "    </tr>\n",
              "    <tr>\n",
              "      <th>197</th>\n",
              "      <td>198</td>\n",
              "      <td>3</td>\n",
              "      <td>12</td>\n",
              "      <td>2</td>\n",
              "      <td>4</td>\n",
              "      <td>0</td>\n",
              "      <td>4</td>\n",
              "      <td>4.0</td>\n",
              "      <td>2</td>\n",
              "      <td>0</td>\n",
              "      <td>4</td>\n",
              "      <td>2</td>\n",
              "      <td>38.0</td>\n",
              "      <td>2</td>\n",
              "      <td>1</td>\n",
              "      <td>1</td>\n",
              "      <td>2</td>\n",
              "      <td>1</td>\n",
              "      <td>0</td>\n",
              "      <td>0</td>\n",
              "    </tr>\n",
              "    <tr>\n",
              "      <th>198</th>\n",
              "      <td>199</td>\n",
              "      <td>0</td>\n",
              "      <td>45</td>\n",
              "      <td>2</td>\n",
              "      <td>4</td>\n",
              "      <td>0</td>\n",
              "      <td>2</td>\n",
              "      <td>4.0</td>\n",
              "      <td>2</td>\n",
              "      <td>0</td>\n",
              "      <td>4</td>\n",
              "      <td>3</td>\n",
              "      <td>23.0</td>\n",
              "      <td>2</td>\n",
              "      <td>2</td>\n",
              "      <td>1</td>\n",
              "      <td>2</td>\n",
              "      <td>1</td>\n",
              "      <td>1</td>\n",
              "      <td>0</td>\n",
              "    </tr>\n",
              "    <tr>\n",
              "      <th>199</th>\n",
              "      <td>200</td>\n",
              "      <td>1</td>\n",
              "      <td>45</td>\n",
              "      <td>4</td>\n",
              "      <td>1</td>\n",
              "      <td>1</td>\n",
              "      <td>0</td>\n",
              "      <td>3.0</td>\n",
              "      <td>2</td>\n",
              "      <td>0</td>\n",
              "      <td>4</td>\n",
              "      <td>2</td>\n",
              "      <td>27.0</td>\n",
              "      <td>2</td>\n",
              "      <td>1</td>\n",
              "      <td>1</td>\n",
              "      <td>2</td>\n",
              "      <td>1</td>\n",
              "      <td>0</td>\n",
              "      <td>0</td>\n",
              "    </tr>\n",
              "  </tbody>\n",
              "</table>\n",
              "<p>200 rows × 20 columns</p>\n",
              "</div>\n",
              "      <button class=\"colab-df-convert\" onclick=\"convertToInteractive('df-5e0972a0-bb1e-433d-a202-f40a00cb1927')\"\n",
              "              title=\"Convert this dataframe to an interactive table.\"\n",
              "              style=\"display:none;\">\n",
              "        \n",
              "  <svg xmlns=\"http://www.w3.org/2000/svg\" height=\"24px\"viewBox=\"0 0 24 24\"\n",
              "       width=\"24px\">\n",
              "    <path d=\"M0 0h24v24H0V0z\" fill=\"none\"/>\n",
              "    <path d=\"M18.56 5.44l.94 2.06.94-2.06 2.06-.94-2.06-.94-.94-2.06-.94 2.06-2.06.94zm-11 1L8.5 8.5l.94-2.06 2.06-.94-2.06-.94L8.5 2.5l-.94 2.06-2.06.94zm10 10l.94 2.06.94-2.06 2.06-.94-2.06-.94-.94-2.06-.94 2.06-2.06.94z\"/><path d=\"M17.41 7.96l-1.37-1.37c-.4-.4-.92-.59-1.43-.59-.52 0-1.04.2-1.43.59L10.3 9.45l-7.72 7.72c-.78.78-.78 2.05 0 2.83L4 21.41c.39.39.9.59 1.41.59.51 0 1.02-.2 1.41-.59l7.78-7.78 2.81-2.81c.8-.78.8-2.07 0-2.86zM5.41 20L4 18.59l7.72-7.72 1.47 1.35L5.41 20z\"/>\n",
              "  </svg>\n",
              "      </button>\n",
              "      \n",
              "  <style>\n",
              "    .colab-df-container {\n",
              "      display:flex;\n",
              "      flex-wrap:wrap;\n",
              "      gap: 12px;\n",
              "    }\n",
              "\n",
              "    .colab-df-convert {\n",
              "      background-color: #E8F0FE;\n",
              "      border: none;\n",
              "      border-radius: 50%;\n",
              "      cursor: pointer;\n",
              "      display: none;\n",
              "      fill: #1967D2;\n",
              "      height: 32px;\n",
              "      padding: 0 0 0 0;\n",
              "      width: 32px;\n",
              "    }\n",
              "\n",
              "    .colab-df-convert:hover {\n",
              "      background-color: #E2EBFA;\n",
              "      box-shadow: 0px 1px 2px rgba(60, 64, 67, 0.3), 0px 1px 3px 1px rgba(60, 64, 67, 0.15);\n",
              "      fill: #174EA6;\n",
              "    }\n",
              "\n",
              "    [theme=dark] .colab-df-convert {\n",
              "      background-color: #3B4455;\n",
              "      fill: #D2E3FC;\n",
              "    }\n",
              "\n",
              "    [theme=dark] .colab-df-convert:hover {\n",
              "      background-color: #434B5C;\n",
              "      box-shadow: 0px 1px 3px 1px rgba(0, 0, 0, 0.15);\n",
              "      filter: drop-shadow(0px 1px 2px rgba(0, 0, 0, 0.3));\n",
              "      fill: #FFFFFF;\n",
              "    }\n",
              "  </style>\n",
              "\n",
              "      <script>\n",
              "        const buttonEl =\n",
              "          document.querySelector('#df-5e0972a0-bb1e-433d-a202-f40a00cb1927 button.colab-df-convert');\n",
              "        buttonEl.style.display =\n",
              "          google.colab.kernel.accessAllowed ? 'block' : 'none';\n",
              "\n",
              "        async function convertToInteractive(key) {\n",
              "          const element = document.querySelector('#df-5e0972a0-bb1e-433d-a202-f40a00cb1927');\n",
              "          const dataTable =\n",
              "            await google.colab.kernel.invokeFunction('convertToInteractive',\n",
              "                                                     [key], {});\n",
              "          if (!dataTable) return;\n",
              "\n",
              "          const docLinkHtml = 'Like what you see? Visit the ' +\n",
              "            '<a target=\"_blank\" href=https://colab.research.google.com/notebooks/data_table.ipynb>data table notebook</a>'\n",
              "            + ' to learn more about interactive tables.';\n",
              "          element.innerHTML = '';\n",
              "          dataTable['output_type'] = 'display_data';\n",
              "          await google.colab.output.renderOutput(dataTable, element);\n",
              "          const docLink = document.createElement('div');\n",
              "          docLink.innerHTML = docLinkHtml;\n",
              "          element.appendChild(docLink);\n",
              "        }\n",
              "      </script>\n",
              "    </div>\n",
              "  </div>\n",
              "  "
            ]
          },
          "metadata": {},
          "execution_count": 192
        }
      ]
    },
    {
      "cell_type": "code",
      "source": [
        "test.drop('serial number',axis=1,inplace=True)"
      ],
      "metadata": {
        "id": "Sjw5lFVFeBxg"
      },
      "execution_count": null,
      "outputs": []
    },
    {
      "cell_type": "code",
      "source": [
        "preds_ytest_rf = rf.predict(test)\n",
        "preds_ytest_rf"
      ],
      "metadata": {
        "colab": {
          "base_uri": "https://localhost:8080/"
        },
        "id": "1iL6SYE1gQBr",
        "outputId": "b46e43a3-9849-43f5-f390-d81cae1a24d9"
      },
      "execution_count": null,
      "outputs": [
        {
          "output_type": "stream",
          "name": "stderr",
          "text": [
            "[Parallel(n_jobs=1)]: Using backend SequentialBackend with 1 concurrent workers.\n",
            "[Parallel(n_jobs=1)]: Done 200 out of 200 | elapsed:    0.0s finished\n"
          ]
        },
        {
          "output_type": "execute_result",
          "data": {
            "text/plain": [
              "array([2, 2, 2, 3, 3, 1, 3, 3, 1, 3, 3, 3, 1, 1, 1, 1, 3, 3, 1, 3, 3, 3,\n",
              "       2, 3, 1, 3, 1, 2, 1, 1, 2, 2, 1, 1, 2, 3, 3, 2, 2, 2, 1, 1, 3, 2,\n",
              "       1, 2, 2, 3, 2, 3, 3, 2, 2, 3, 1, 2, 3, 2, 1, 2, 2, 2, 2, 2, 2, 2,\n",
              "       2, 2, 1, 3, 1, 3, 2, 3, 2, 3, 1, 2, 2, 1, 1, 1, 3, 3, 2, 3, 2, 1,\n",
              "       1, 1, 1, 3, 3, 1, 2, 1, 2, 3, 2, 2, 1, 1, 1, 3, 2, 2, 2, 1, 3, 3,\n",
              "       2, 1, 1, 3, 2, 1, 2, 1, 1, 2, 2, 1, 3, 3, 1, 3, 2, 1, 2, 3, 3, 3,\n",
              "       3, 3, 3, 1, 3, 3, 1, 1, 1, 3, 2, 2, 3, 1, 1, 2, 3, 2, 2, 1, 2, 1,\n",
              "       3, 2, 2, 2, 1, 2, 2, 1, 2, 2, 3, 1, 1, 2, 1, 2, 3, 1, 2, 2, 2, 2,\n",
              "       2, 2, 3, 3, 1, 1, 1, 1, 1, 2, 1, 2, 2, 1, 2, 3, 2, 1, 3, 3, 2, 3,\n",
              "       1, 1])"
            ]
          },
          "metadata": {},
          "execution_count": 251
        }
      ]
    },
    {
      "cell_type": "code",
      "source": [
        "output = pd.DataFrame({\n",
        "    'serial number' : range(1, 201),\n",
        "    'Group_no':[2, 2, 2, 3, 3, 1, 3, 3, 1, 3, 3, 3, 1, 1, 1, 1, 3, 3, 1, 3, 3, 3,\n",
        "       2, 3, 1, 3, 1, 2, 1, 1, 2, 2, 1, 1, 2, 3, 3, 2, 2, 2, 1, 1, 3, 2,\n",
        "       1, 2, 2, 3, 2, 3, 3, 2, 2, 3, 1, 2, 3, 2, 1, 2, 2, 2, 2, 2, 2, 2,\n",
        "       2, 2, 1, 3, 1, 3, 2, 3, 2, 3, 1, 2, 2, 1, 1, 1, 3, 3, 2, 3, 2, 1,\n",
        "       1, 1, 1, 3, 3, 1, 2, 1, 2, 3, 2, 2, 1, 1, 1, 3, 2, 2, 2, 1, 3, 3,\n",
        "       2, 1, 1, 3, 2, 1, 2, 1, 1, 2, 2, 1, 3, 3, 1, 3, 2, 1, 2, 3, 3, 3,\n",
        "       3, 3, 3, 1, 3, 3, 1, 1, 1, 3, 2, 2, 3, 1, 1, 2, 3, 2, 2, 1, 2, 1,\n",
        "       3, 2, 2, 2, 1, 2, 2, 1, 2, 2, 3, 1, 1, 2, 1, 2, 3, 1, 2, 2, 2, 2,\n",
        "       2, 2, 3, 3, 1, 1, 1, 1, 1, 2, 1, 2, 2, 1, 2, 3, 2, 1, 3, 3, 2, 3,\n",
        "       1, 1]\n",
        "})\n",
        "\n",
        "output"
      ],
      "metadata": {
        "colab": {
          "base_uri": "https://localhost:8080/",
          "height": 423
        },
        "id": "VJmZXHJhx-dC",
        "outputId": "8f7f7585-1874-4a0e-836a-28b9c0f5da72"
      },
      "execution_count": null,
      "outputs": [
        {
          "output_type": "execute_result",
          "data": {
            "text/plain": [
              "     serial number  Group_no\n",
              "0                1         2\n",
              "1                2         2\n",
              "2                3         2\n",
              "3                4         3\n",
              "4                5         3\n",
              "..             ...       ...\n",
              "195            196         3\n",
              "196            197         2\n",
              "197            198         3\n",
              "198            199         1\n",
              "199            200         1\n",
              "\n",
              "[200 rows x 2 columns]"
            ],
            "text/html": [
              "\n",
              "  <div id=\"df-c8d77eb2-2b51-403c-a731-b1b57daf3161\">\n",
              "    <div class=\"colab-df-container\">\n",
              "      <div>\n",
              "<style scoped>\n",
              "    .dataframe tbody tr th:only-of-type {\n",
              "        vertical-align: middle;\n",
              "    }\n",
              "\n",
              "    .dataframe tbody tr th {\n",
              "        vertical-align: top;\n",
              "    }\n",
              "\n",
              "    .dataframe thead th {\n",
              "        text-align: right;\n",
              "    }\n",
              "</style>\n",
              "<table border=\"1\" class=\"dataframe\">\n",
              "  <thead>\n",
              "    <tr style=\"text-align: right;\">\n",
              "      <th></th>\n",
              "      <th>serial number</th>\n",
              "      <th>Group_no</th>\n",
              "    </tr>\n",
              "  </thead>\n",
              "  <tbody>\n",
              "    <tr>\n",
              "      <th>0</th>\n",
              "      <td>1</td>\n",
              "      <td>2</td>\n",
              "    </tr>\n",
              "    <tr>\n",
              "      <th>1</th>\n",
              "      <td>2</td>\n",
              "      <td>2</td>\n",
              "    </tr>\n",
              "    <tr>\n",
              "      <th>2</th>\n",
              "      <td>3</td>\n",
              "      <td>2</td>\n",
              "    </tr>\n",
              "    <tr>\n",
              "      <th>3</th>\n",
              "      <td>4</td>\n",
              "      <td>3</td>\n",
              "    </tr>\n",
              "    <tr>\n",
              "      <th>4</th>\n",
              "      <td>5</td>\n",
              "      <td>3</td>\n",
              "    </tr>\n",
              "    <tr>\n",
              "      <th>...</th>\n",
              "      <td>...</td>\n",
              "      <td>...</td>\n",
              "    </tr>\n",
              "    <tr>\n",
              "      <th>195</th>\n",
              "      <td>196</td>\n",
              "      <td>3</td>\n",
              "    </tr>\n",
              "    <tr>\n",
              "      <th>196</th>\n",
              "      <td>197</td>\n",
              "      <td>2</td>\n",
              "    </tr>\n",
              "    <tr>\n",
              "      <th>197</th>\n",
              "      <td>198</td>\n",
              "      <td>3</td>\n",
              "    </tr>\n",
              "    <tr>\n",
              "      <th>198</th>\n",
              "      <td>199</td>\n",
              "      <td>1</td>\n",
              "    </tr>\n",
              "    <tr>\n",
              "      <th>199</th>\n",
              "      <td>200</td>\n",
              "      <td>1</td>\n",
              "    </tr>\n",
              "  </tbody>\n",
              "</table>\n",
              "<p>200 rows × 2 columns</p>\n",
              "</div>\n",
              "      <button class=\"colab-df-convert\" onclick=\"convertToInteractive('df-c8d77eb2-2b51-403c-a731-b1b57daf3161')\"\n",
              "              title=\"Convert this dataframe to an interactive table.\"\n",
              "              style=\"display:none;\">\n",
              "        \n",
              "  <svg xmlns=\"http://www.w3.org/2000/svg\" height=\"24px\"viewBox=\"0 0 24 24\"\n",
              "       width=\"24px\">\n",
              "    <path d=\"M0 0h24v24H0V0z\" fill=\"none\"/>\n",
              "    <path d=\"M18.56 5.44l.94 2.06.94-2.06 2.06-.94-2.06-.94-.94-2.06-.94 2.06-2.06.94zm-11 1L8.5 8.5l.94-2.06 2.06-.94-2.06-.94L8.5 2.5l-.94 2.06-2.06.94zm10 10l.94 2.06.94-2.06 2.06-.94-2.06-.94-.94-2.06-.94 2.06-2.06.94z\"/><path d=\"M17.41 7.96l-1.37-1.37c-.4-.4-.92-.59-1.43-.59-.52 0-1.04.2-1.43.59L10.3 9.45l-7.72 7.72c-.78.78-.78 2.05 0 2.83L4 21.41c.39.39.9.59 1.41.59.51 0 1.02-.2 1.41-.59l7.78-7.78 2.81-2.81c.8-.78.8-2.07 0-2.86zM5.41 20L4 18.59l7.72-7.72 1.47 1.35L5.41 20z\"/>\n",
              "  </svg>\n",
              "      </button>\n",
              "      \n",
              "  <style>\n",
              "    .colab-df-container {\n",
              "      display:flex;\n",
              "      flex-wrap:wrap;\n",
              "      gap: 12px;\n",
              "    }\n",
              "\n",
              "    .colab-df-convert {\n",
              "      background-color: #E8F0FE;\n",
              "      border: none;\n",
              "      border-radius: 50%;\n",
              "      cursor: pointer;\n",
              "      display: none;\n",
              "      fill: #1967D2;\n",
              "      height: 32px;\n",
              "      padding: 0 0 0 0;\n",
              "      width: 32px;\n",
              "    }\n",
              "\n",
              "    .colab-df-convert:hover {\n",
              "      background-color: #E2EBFA;\n",
              "      box-shadow: 0px 1px 2px rgba(60, 64, 67, 0.3), 0px 1px 3px 1px rgba(60, 64, 67, 0.15);\n",
              "      fill: #174EA6;\n",
              "    }\n",
              "\n",
              "    [theme=dark] .colab-df-convert {\n",
              "      background-color: #3B4455;\n",
              "      fill: #D2E3FC;\n",
              "    }\n",
              "\n",
              "    [theme=dark] .colab-df-convert:hover {\n",
              "      background-color: #434B5C;\n",
              "      box-shadow: 0px 1px 3px 1px rgba(0, 0, 0, 0.15);\n",
              "      filter: drop-shadow(0px 1px 2px rgba(0, 0, 0, 0.3));\n",
              "      fill: #FFFFFF;\n",
              "    }\n",
              "  </style>\n",
              "\n",
              "      <script>\n",
              "        const buttonEl =\n",
              "          document.querySelector('#df-c8d77eb2-2b51-403c-a731-b1b57daf3161 button.colab-df-convert');\n",
              "        buttonEl.style.display =\n",
              "          google.colab.kernel.accessAllowed ? 'block' : 'none';\n",
              "\n",
              "        async function convertToInteractive(key) {\n",
              "          const element = document.querySelector('#df-c8d77eb2-2b51-403c-a731-b1b57daf3161');\n",
              "          const dataTable =\n",
              "            await google.colab.kernel.invokeFunction('convertToInteractive',\n",
              "                                                     [key], {});\n",
              "          if (!dataTable) return;\n",
              "\n",
              "          const docLinkHtml = 'Like what you see? Visit the ' +\n",
              "            '<a target=\"_blank\" href=https://colab.research.google.com/notebooks/data_table.ipynb>data table notebook</a>'\n",
              "            + ' to learn more about interactive tables.';\n",
              "          element.innerHTML = '';\n",
              "          dataTable['output_type'] = 'display_data';\n",
              "          await google.colab.output.renderOutput(dataTable, element);\n",
              "          const docLink = document.createElement('div');\n",
              "          docLink.innerHTML = docLinkHtml;\n",
              "          element.appendChild(docLink);\n",
              "        }\n",
              "      </script>\n",
              "    </div>\n",
              "  </div>\n",
              "  "
            ]
          },
          "metadata": {},
          "execution_count": 252
        }
      ]
    },
    {
      "cell_type": "code",
      "source": [
        "output.to_csv('sample.csv')"
      ],
      "metadata": {
        "id": "YjpTx-7HyGfD"
      },
      "execution_count": null,
      "outputs": []
    },
    {
      "cell_type": "code",
      "source": [],
      "metadata": {
        "id": "ywtCePzc2h2Z"
      },
      "execution_count": null,
      "outputs": []
    },
    {
      "cell_type": "markdown",
      "source": [
        "#conclusion\n",
        "gradient boost accuracy\n",
        "\n",
        "*   train-0.9\n",
        "*   test-0.71\n",
        "\n",
        "after scaling- ada boosting\n",
        "\n",
        "\n",
        "*   train-0.68\n",
        "*   test-0.67\n",
        "\n",
        "\n",
        "\n",
        "                     \n",
        "smote-random forest  accuracy\n",
        "\n",
        "*   train-1.0\n",
        "*   test-0.79\n",
        "\n",
        "ada boost classifier accuracy\n",
        "\n",
        "*   train-0.71\n",
        "*   test-0.71\n",
        "\n",
        "#The best model is random forest with accuracy train -1.0 || test-0.79\n",
        "\n",
        "\n",
        "\n",
        "                     \n"
      ],
      "metadata": {
        "id": "t-tSiWkDa3dL"
      }
    },
    {
      "cell_type": "code",
      "source": [],
      "metadata": {
        "id": "oufE3ZWtdPE2"
      },
      "execution_count": null,
      "outputs": []
    }
  ]
}